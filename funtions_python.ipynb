{
  "nbformat": 4,
  "nbformat_minor": 0,
  "metadata": {
    "colab": {
      "provenance": [],
      "authorship_tag": "ABX9TyOj97xA05wj0q+JlNqFQLQ6",
      "include_colab_link": true
    },
    "kernelspec": {
      "name": "python3",
      "display_name": "Python 3"
    },
    "language_info": {
      "name": "python"
    }
  },
  "cells": [
    {
      "cell_type": "markdown",
      "metadata": {
        "id": "view-in-github",
        "colab_type": "text"
      },
      "source": [
        "<a href=\"https://colab.research.google.com/github/M-Dinesh-14/python/blob/main/funtions_python.ipynb\" target=\"_parent\"><img src=\"https://colab.research.google.com/assets/colab-badge.svg\" alt=\"Open In Colab\"/></a>"
      ]
    },
    {
      "cell_type": "markdown",
      "source": [
        "#Functions\n",
        "* A function is a block of code which only runs when it is called.\n",
        "\n",
        "* You can pass data, known as parameters, into a function.\n",
        "\n",
        "* A function can return data as a result.\n",
        "\n",
        "There are 2 types of functions:\n",
        "\n",
        "1) Build-in function\n",
        "\n",
        "2) User defined function\n",
        "\n",
        "* Build in function:\n",
        "-These are pre-defined functions in python given by complier\n",
        "\n",
        "2.User defined function:\n",
        "\n",
        "these types of functions are defined by the user to perform any specific task"
      ],
      "metadata": {
        "id": "vz0N6u_QTQqP"
      }
    },
    {
      "cell_type": "code",
      "execution_count": null,
      "metadata": {
        "colab": {
          "base_uri": "https://localhost:8080/"
        },
        "id": "X9UxkJBYQUoO",
        "outputId": "e43970a1-2081-4fdc-a5f5-2685b1b2a540"
      },
      "outputs": [
        {
          "name": "stdout",
          "output_type": "stream",
          "text": [
            " enter the bike honda\n"
          ]
        }
      ],
      "source": []
    },
    {
      "cell_type": "code",
      "source": [
        "\n",
        "user= input(\" enter the bike \")\n",
        "bike_list = [\"fz\",\"duke\",\"bullet\"]\n",
        "def bike1(user):\n",
        "  if user in bike_list:\n",
        "   print(f'yes we have {user} and which type of model are locking for {bike_list}')\n",
        "  else:\n",
        "    print(\"no we do not have\")\n",
        "\n",
        "bike1(user)\n",
        "\n",
        "\n",
        "\n"
      ],
      "metadata": {
        "colab": {
          "base_uri": "https://localhost:8080/"
        },
        "id": "PKpPZOOcYrEf",
        "outputId": "6710f115-6b3d-41c0-bded-2136377dfa8e"
      },
      "execution_count": 16,
      "outputs": [
        {
          "output_type": "stream",
          "name": "stdout",
          "text": [
            " enter the bike fz\n",
            "yes we have fz and which type of model are locking for ['fz', 'duke', 'bullet']\n"
          ]
        }
      ]
    },
    {
      "cell_type": "code",
      "source": [],
      "metadata": {
        "id": "EDv-iVdleD7H"
      },
      "execution_count": null,
      "outputs": []
    },
    {
      "cell_type": "code",
      "source": [
        "toys = input(\"enter the toys name:- \")\n",
        "toys_list=['dog','cat','rat','cow','goat']\n",
        "def dinesh(nani):\n",
        "  if nani in toys_list:\n",
        "   print(f'yes we have {toys} and which type of animal toys do you want ')\n",
        "  else:\n",
        "    print(\"no we do not have\")\n",
        "dinesh(toys)"
      ],
      "metadata": {
        "colab": {
          "base_uri": "https://localhost:8080/"
        },
        "id": "-3qlHBpCp6x7",
        "outputId": "190ac849-eb7b-41e5-dc6b-3933b8dd7ae0"
      },
      "execution_count": 18,
      "outputs": [
        {
          "output_type": "stream",
          "name": "stdout",
          "text": [
            "enter the toys name:- pig\n",
            "no we do not have\n"
          ]
        }
      ]
    }
  ]
}