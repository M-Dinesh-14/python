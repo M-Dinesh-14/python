{
  "nbformat": 4,
  "nbformat_minor": 0,
  "metadata": {
    "colab": {
      "provenance": [],
      "authorship_tag": "ABX9TyPKex9OR1L2MVlS4fHcnsGy",
      "include_colab_link": true
    },
    "kernelspec": {
      "name": "python3",
      "display_name": "Python 3"
    },
    "language_info": {
      "name": "python"
    }
  },
  "cells": [
    {
      "cell_type": "markdown",
      "metadata": {
        "id": "view-in-github",
        "colab_type": "text"
      },
      "source": [
        "<a href=\"https://colab.research.google.com/github/M-Dinesh-14/python/blob/main/funtions_python.ipynb\" target=\"_parent\"><img src=\"https://colab.research.google.com/assets/colab-badge.svg\" alt=\"Open In Colab\"/></a>"
      ]
    },
    {
      "cell_type": "code",
      "execution_count": 31,
      "metadata": {
        "colab": {
          "base_uri": "https://localhost:8080/"
        },
        "id": "X9UxkJBYQUoO",
        "outputId": "30496c23-6ba8-4f42-cf85-c399aaf54444"
      },
      "outputs": [
        {
          "output_type": "stream",
          "name": "stdout",
          "text": [
            " enter the bike honda\n",
            "honda bike\n",
            "yes we have honda and which type of model are locking for ['fz', 'duke', 'bullet']\n"
          ]
        }
      ],
      "source": [
        "user= input(\" enter the bike \")\n",
        "bike = {\"honda bike\"}\n",
        "bike_list = ['fz','duke','bullet']\n",
        "for i in bike:\n",
        "  print(i)\n",
        "\n",
        "  def bike1(bike):\n",
        "     print(f'yes we have {user} and which type of model are locking for {bike_list}')\n",
        "\n",
        "bike1(bike)"
      ]
    },
    {
      "cell_type": "code",
      "source": [
        "user= input(\" enter the bike \")\n",
        "bike={\"Dinesh showroom\"}\n",
        "bike_list = ['fz','duke','bullet']\n",
        "for i in bike:\n",
        "  print(i)\n",
        "def bike1(type):\n",
        "  print(f'yes we have {user} and which type of model are locking for ')\n",
        "bike1(user)\n",
        "\n",
        "for i in bike_list:\n",
        "  print(i)\n",
        "\n",
        "\n"
      ],
      "metadata": {
        "colab": {
          "base_uri": "https://localhost:8080/"
        },
        "id": "PKpPZOOcYrEf",
        "outputId": "2bf14c6f-60bd-49e3-b9be-b8bdd54a48fb"
      },
      "execution_count": 30,
      "outputs": [
        {
          "output_type": "stream",
          "name": "stdout",
          "text": [
            " enter the bike honda\n",
            "Dinesh showroom\n",
            "yes we have honda and which type of model are locking for \n",
            "fz\n",
            "duke\n",
            "bullet\n"
          ]
        }
      ]
    },
    {
      "cell_type": "code",
      "source": [],
      "metadata": {
        "id": "EDv-iVdleD7H"
      },
      "execution_count": 30,
      "outputs": []
    }
  ]
}