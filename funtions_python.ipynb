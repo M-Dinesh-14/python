{
  "nbformat": 4,
  "nbformat_minor": 0,
  "metadata": {
    "colab": {
      "provenance": [],
      "authorship_tag": "ABX9TyOik1s2Vllu8ZRCdFJco1Wu",
      "include_colab_link": true
    },
    "kernelspec": {
      "name": "python3",
      "display_name": "Python 3"
    },
    "language_info": {
      "name": "python"
    }
  },
  "cells": [
    {
      "cell_type": "markdown",
      "metadata": {
        "id": "view-in-github",
        "colab_type": "text"
      },
      "source": [
        "<a href=\"https://colab.research.google.com/github/M-Dinesh-14/python/blob/main/funtions_python.ipynb\" target=\"_parent\"><img src=\"https://colab.research.google.com/assets/colab-badge.svg\" alt=\"Open In Colab\"/></a>"
      ]
    },
    {
      "cell_type": "markdown",
      "source": [
        "#Functions\n",
        "* A function is a block of code which only runs when it is called.\n",
        "\n",
        "* You can pass data, known as parameters, into a function.\n",
        "\n",
        "* A function can return data as a result.\n",
        "\n",
        "There are 2 types of functions:\n",
        "\n",
        "1) Build-in function\n",
        "\n",
        "2) User defined function\n",
        "\n",
        "* Build in function:\n",
        "-These are pre-defined functions in python given by complier\n",
        "\n",
        "2.User defined function:\n",
        "\n",
        "these types of functions are defined by the user to perform any specific task"
      ],
      "metadata": {
        "id": "vz0N6u_QTQqP"
      }
    },
    {
      "cell_type": "code",
      "execution_count": null,
      "metadata": {
        "colab": {
          "base_uri": "https://localhost:8080/"
        },
        "id": "X9UxkJBYQUoO",
        "outputId": "e43970a1-2081-4fdc-a5f5-2685b1b2a540"
      },
      "outputs": [
        {
          "name": "stdout",
          "output_type": "stream",
          "text": [
            " enter the bike honda\n"
          ]
        }
      ],
      "source": []
    },
    {
      "cell_type": "code",
      "source": [
        "\n",
        "user= input(\" enter the bike \")\n",
        "bike_list = [\"fz\",\"duke\",\"bullet\"]\n",
        "def bike1(user):\n",
        "  if user in bike_list:\n",
        "   print(f'yes we have {user} and which type of model are locking for {bike_list}')\n",
        "  else:\n",
        "    print(\"no we do not have\")\n",
        "\n",
        "\n",
        "\n",
        "\n",
        "\n"
      ],
      "metadata": {
        "colab": {
          "base_uri": "https://localhost:8080/"
        },
        "id": "PKpPZOOcYrEf",
        "outputId": "e4a26eb8-c41b-410a-f797-73cb40eb1059"
      },
      "execution_count": null,
      "outputs": [
        {
          "name": "stdout",
          "output_type": "stream",
          "text": [
            " enter the bike duke\n"
          ]
        }
      ]
    },
    {
      "cell_type": "code",
      "source": [
        "bike1(user)"
      ],
      "metadata": {
        "id": "EDv-iVdleD7H",
        "colab": {
          "base_uri": "https://localhost:8080/"
        },
        "outputId": "115d0fb0-ace3-485b-b882-ae199aa411b3"
      },
      "execution_count": null,
      "outputs": [
        {
          "output_type": "stream",
          "name": "stdout",
          "text": [
            "yes we have duke and which type of model are locking for ['fz', 'duke', 'bullet']\n"
          ]
        }
      ]
    },
    {
      "cell_type": "code",
      "source": [
        "toys = input(\"enter the toys name:- \")\n",
        "toys_list=['dog','cat','rat','cow','goat']\n",
        "def dinesh(nani):\n",
        "  if nani in toys_list:\n",
        "   print(f'yes we have {toys} and which type of animal toys do you want ')\n",
        "  else:\n",
        "    print(\"no we do not have\")\n",
        "dinesh(toys)"
      ],
      "metadata": {
        "colab": {
          "base_uri": "https://localhost:8080/"
        },
        "id": "-3qlHBpCp6x7",
        "outputId": "190ac849-eb7b-41e5-dc6b-3933b8dd7ae0"
      },
      "execution_count": null,
      "outputs": [
        {
          "output_type": "stream",
          "name": "stdout",
          "text": [
            "enter the toys name:- pig\n",
            "no we do not have\n"
          ]
        }
      ]
    },
    {
      "cell_type": "markdown",
      "source": [
        "# map() function\n",
        "*The map() function is used to apply a given function to every item of an iterable, such as a list or tuple, and returns a map object\n",
        "\n",
        "#Syntax\n",
        "map(function, iterables)\n",
        "\n",
        "\n"
      ],
      "metadata": {
        "id": "QxOlOGb4xCga"
      }
    },
    {
      "cell_type": "code",
      "source": [
        "def n(a,b):\n",
        " return a + b\n",
        "x=map(n,(1,2,3),(6,4,5))\n",
        "print(x)\n",
        "print(list(x))"
      ],
      "metadata": {
        "colab": {
          "base_uri": "https://localhost:8080/"
        },
        "id": "NnFAm-K9HWPf",
        "outputId": "eafa951f-b24c-4511-8c2a-81031337c9de"
      },
      "execution_count": null,
      "outputs": [
        {
          "output_type": "stream",
          "name": "stdout",
          "text": [
            "<map object at 0x7de483fc6aa0>\n",
            "[7, 6, 8]\n"
          ]
        }
      ]
    },
    {
      "cell_type": "markdown",
      "source": [
        "# filters\n",
        "\n",
        "The filter() function returns an iterator where the items are filtered through a function to test if the item is accepted or not."
      ],
      "metadata": {
        "id": "RwWU8QEAIrrh"
      }
    },
    {
      "cell_type": "code",
      "source": [
        "ages = [5, 12, 17, 18, 24, 32]\n",
        "\n",
        "def myFunc(x):\n",
        "  if x < 18:\n",
        "    return False\n",
        "  else:\n",
        "    return True\n",
        "\n",
        "adults = filter(myFunc, ages)\n",
        "\n",
        "for x in adults:\n",
        "  print(x)"
      ],
      "metadata": {
        "colab": {
          "base_uri": "https://localhost:8080/"
        },
        "id": "PA51bXoHpToP",
        "outputId": "8ef5a1b5-dab8-4cef-a8a6-632544c89452"
      },
      "execution_count": null,
      "outputs": [
        {
          "output_type": "stream",
          "name": "stdout",
          "text": [
            "18\n",
            "24\n",
            "32\n"
          ]
        }
      ]
    }
  ]
}