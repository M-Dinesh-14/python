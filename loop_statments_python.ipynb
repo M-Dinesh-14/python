{
  "nbformat": 4,
  "nbformat_minor": 0,
  "metadata": {
    "colab": {
      "provenance": [],
      "authorship_tag": "ABX9TyOoNkaTR/Tg18DFsW06VNqr",
      "include_colab_link": true
    },
    "kernelspec": {
      "name": "python3",
      "display_name": "Python 3"
    },
    "language_info": {
      "name": "python"
    }
  },
  "cells": [
    {
      "cell_type": "markdown",
      "metadata": {
        "id": "view-in-github",
        "colab_type": "text"
      },
      "source": [
        "<a href=\"https://colab.research.google.com/github/M-Dinesh-14/python/blob/main/loop_statments_python.ipynb\" target=\"_parent\"><img src=\"https://colab.research.google.com/assets/colab-badge.svg\" alt=\"Open In Colab\"/></a>"
      ]
    },
    {
      "cell_type": "markdown",
      "source": [
        "# LOOP Statements\n",
        "  #While\n",
        "* It is used to run a Block Code unit with a Certain Condition is met.\n",
        "* A while loop Evaluates the Condition.\n",
        "* If the Condition Evalues to True the Inside while loop is Executed.\n",
        "* The process Continues until the Condition is False."
      ],
      "metadata": {
        "id": "qkGHZYs1Pxpg"
      }
    },
    {
      "cell_type": "markdown",
      "source": [
        "#For loop\n",
        "* It is used for Iterating over a sequence\n",
        "* The for loop does not require an indexing variable to set beforehand."
      ],
      "metadata": {
        "id": "mvFWv_ALQUYg"
      }
    },
    {
      "cell_type": "markdown",
      "source": [
        "1) write a python program to check given year is leap year or not.\n"
      ],
      "metadata": {
        "id": "CvzEYtWDindF"
      }
    },
    {
      "cell_type": "code",
      "source": [
        "y1 = int(input(\"enter a year\"))\n",
        "y2 = int(input(\"enter number of years\"))\n",
        "for year in range(y1 , y1+y2):\n",
        "  if year % 4 == 0:\n",
        "    print(f\"{year}is a leap year\")\n",
        "  else:\n",
        "      print(f\"{year}is not a leap year\")"
      ],
      "metadata": {
        "colab": {
          "base_uri": "https://localhost:8080/"
        },
        "id": "19hD_oaei5wp",
        "outputId": "9fe092f0-86d6-470b-e8e2-f7799edbc4d8"
      },
      "execution_count": null,
      "outputs": [
        {
          "output_type": "stream",
          "name": "stdout",
          "text": [
            "enter a year2004\n",
            "enter number of years5\n",
            "2004is a leap year\n",
            "2005is not a leap year\n",
            "2006is not a leap year\n",
            "2007is not a leap year\n",
            "2008is a leap year\n"
          ]
        }
      ]
    },
    {
      "cell_type": "markdown",
      "source": [
        "2) write apython program to find a given even or odd?"
      ],
      "metadata": {
        "id": "fQjsaXo0livn"
      }
    },
    {
      "cell_type": "code",
      "source": [
        "num = int(input(\"enter the number\"))\n",
        "num = [1,2,3,4,5,6,7,8,9]\n",
        "for i  in num:\n",
        " if(i % 2 == 0):\n",
        "  print(f\"{i} a even number\")\n",
        "else:\n",
        "  print(f\"{i} a odd number\")"
      ],
      "metadata": {
        "colab": {
          "base_uri": "https://localhost:8080/"
        },
        "id": "cbrVy33Ml19W",
        "outputId": "ccc7956c-7087-4eba-87e4-ac1b7fbf0b92"
      },
      "execution_count": null,
      "outputs": [
        {
          "output_type": "stream",
          "name": "stdout",
          "text": [
            "enter the number2\n",
            "2 a even number\n",
            "4 a even number\n",
            "6 a even number\n",
            "8 a even number\n",
            "9 a odd number\n"
          ]
        }
      ]
    },
    {
      "cell_type": "markdown",
      "source": [
        "write a python program to check list is empty or not?\n"
      ],
      "metadata": {
        "id": "uMw06g0umV4O"
      }
    },
    {
      "cell_type": "code",
      "source": [
        "num=[]\n",
        "for a in num:\n",
        "    if not a:\n",
        "        print(\"Empty\")\n",
        "    else:\n",
        "        print(\"Not Empty\")"
      ],
      "metadata": {
        "id": "NDSSTzIDme4w"
      },
      "execution_count": null,
      "outputs": []
    },
    {
      "cell_type": "markdown",
      "source": [
        "4) write a python code to calucate grade of a student\n"
      ],
      "metadata": {
        "id": "pf7chnMUn5RL"
      }
    },
    {
      "cell_type": "code",
      "source": [
        "\n",
        "   grades_input = input(\"Enter marks and grades: \")\n",
        "grades = [int(mark.strip()) for mark in grades_input.split(',')]\n",
        "\n",
        "\n",
        "for mark in grades:\n",
        "    if mark >= 90:\n",
        "        print(f\"{mark}: A\")\n",
        "    elif mark >= 80:\n",
        "        print(f\"{mark}: B\")\n",
        "    elif mark >= 70:\n",
        "        print(f\"{mark}: C\")\n",
        "    elif mark >= 60:\n",
        "        print(f\"{mark}: D\")\n",
        "    elif mark >= 50:\n",
        "        print(f\"{mark}: E\")\n",
        "    else:\n",
        "        print(f\"{mark}: F\")"
      ],
      "metadata": {
        "colab": {
          "base_uri": "https://localhost:8080/"
        },
        "id": "IzNw5-nPoEJB",
        "outputId": "f38f76d6-2695-4e34-c97d-70629878076f"
      },
      "execution_count": null,
      "outputs": [
        {
          "output_type": "stream",
          "name": "stdout",
          "text": [
            "Enter marks and grades: 60\n",
            "60: D\n"
          ]
        }
      ]
    },
    {
      "cell_type": "code",
      "source": [],
      "metadata": {
        "id": "VAJRhPZkTlsy"
      },
      "execution_count": null,
      "outputs": []
    },
    {
      "cell_type": "markdown",
      "source": [
        "5). check whether given word is a palindrome or not?\n",
        "\n",
        "6). write a python program to find the smallest among three number?\n",
        "\n",
        "7). find the second largest number in a list?\n",
        "\n",
        "8). calculate BMI and categorize it\n",
        " * underweight\n",
        " * bodyweight\n",
        "\n",
        "9). write a python program to check vote eligiblity\n",
        "\n",
        "10). write a python program to find person belongs to which type of group\n",
        "* school group lessthen 22\n",
        "* work group lessthen 22 and greater then 50\n",
        "* retire group graterthen 50\n"
      ],
      "metadata": {
        "id": "dmOLdhr5qPtj"
      }
    },
    {
      "cell_type": "code",
      "source": [
        "# 5) check whether given word is a palindrome or not?\n",
        "\n",
        "word=input(\"Enter a word:\")\n",
        "for name in word:\n",
        "   if word==word[::-1]:\n",
        "       print(\" Palindrome\")\n",
        "   else:\n",
        "       print(\"Not Palindrome\")\n"
      ],
      "metadata": {
        "colab": {
          "base_uri": "https://localhost:8080/"
        },
        "id": "2_WB2C8UrE9c",
        "outputId": "add9d3cd-7fbd-44d7-9757-fb558bf1b877"
      },
      "execution_count": null,
      "outputs": [
        {
          "output_type": "stream",
          "name": "stdout",
          "text": [
            "Enter a word:madam\n",
            " Palindrome\n",
            " Palindrome\n",
            " Palindrome\n",
            " Palindrome\n",
            " Palindrome\n"
          ]
        }
      ]
    },
    {
      "cell_type": "code",
      "source": [
        "#6). write a python program to find the smallest among three number?\n",
        "smallest = float('inf')\n",
        "i=20,30,40\n",
        "for i in range(3):\n",
        "    num = int(input(f\"Enter number {i + 1}: \"))\n",
        "    if num < smallest:\n",
        "        smallest = num\n",
        "\n",
        "print(f\"The smallest number is: {smallest}\")\n",
        "\n"
      ],
      "metadata": {
        "colab": {
          "base_uri": "https://localhost:8080/"
        },
        "id": "A6AQL_E5zxaj",
        "outputId": "e32fac2f-b870-4597-9d8a-5eb895e91e4f"
      },
      "execution_count": null,
      "outputs": [
        {
          "output_type": "stream",
          "name": "stdout",
          "text": [
            "Enter number 1: 30\n",
            "Enter number 2: 20\n",
            "Enter number 3: 40\n",
            "The smallest number is: 20\n"
          ]
        }
      ]
    },
    {
      "cell_type": "code",
      "source": [
        "#7). find the second largest number in a list?\n",
        "my_list = [30,29,40,50]\n",
        "largest = second_largest = 0\n",
        "index = 0\n",
        "\n",
        "while index < len(my_list):\n",
        "    num = my_list[index]\n",
        "    if num > largest:\n",
        "        second_largest = largest\n",
        "        largest = num\n",
        "    else:\n",
        "        second_largest = num\n",
        "\n",
        "    index += 1\n",
        "print(second_largest)\n"
      ],
      "metadata": {
        "colab": {
          "base_uri": "https://localhost:8080/"
        },
        "id": "iPz9o8sf1SvZ",
        "outputId": "32c0b4c0-8a96-49f7-e316-00019898eacd"
      },
      "execution_count": 2,
      "outputs": [
        {
          "output_type": "stream",
          "name": "stdout",
          "text": [
            "40\n"
          ]
        }
      ]
    },
    {
      "cell_type": "code",
      "source": [
        "#8). calculate BMI(body mass index) and categorize it\n",
        "#*underweight\n",
        "#*bodyweight"
      ],
      "metadata": {
        "id": "gwO33Jt093gA"
      },
      "execution_count": null,
      "outputs": []
    },
    {
      "cell_type": "code",
      "source": [
        "\n",
        " Height = float(input(\"Enter your height in cm: \")) / 100\n",
        "    Weight = float(input(\"Enter your weight in kg: \"))\n",
        "\n",
        "    i = Weight / (Height ** 2)\n",
        "\n",
        "    if i <= 18.5:\n",
        "        print(\"You are underweight\")\n",
        "    elif i <= 25:\n",
        "        print(\"You are healthy\")\n",
        "    elif i <= 30:\n",
        "        print(\"You are overweight\")\n",
        "    else:\n",
        "        print(\"You are obese\")\n",
        ""
      ],
      "metadata": {
        "colab": {
          "base_uri": "https://localhost:8080/",
          "height": 106
        },
        "id": "3Oe0B-lcAJ99",
        "outputId": "0281100a-1dea-4584-c143-339925f6d216"
      },
      "execution_count": 3,
      "outputs": [
        {
          "output_type": "error",
          "ename": "IndentationError",
          "evalue": "unexpected indent (<ipython-input-3-1f8daed9294a>, line 2)",
          "traceback": [
            "\u001b[0;36m  File \u001b[0;32m\"<ipython-input-3-1f8daed9294a>\"\u001b[0;36m, line \u001b[0;32m2\u001b[0m\n\u001b[0;31m    Weight = float(input(\"Enter your weight in kg: \"))\u001b[0m\n\u001b[0m    ^\u001b[0m\n\u001b[0;31mIndentationError\u001b[0m\u001b[0;31m:\u001b[0m unexpected indent\n"
          ]
        }
      ]
    },
    {
      "cell_type": "code",
      "source": [
        "#9). write a python program to check vote eligiblity\n",
        "\n",
        "age=[12,3,17,10,21,19]\n",
        "for i in age:\n",
        "  if i >=18:\n",
        "    print(i,\"vote\")\n",
        "  else:\n",
        "    print(i,\"not vote\")\n",
        ""
      ],
      "metadata": {
        "colab": {
          "base_uri": "https://localhost:8080/"
        },
        "id": "GnhHc1FDIcv0",
        "outputId": "824c1a62-e297-41ca-8db3-d35e52aae763"
      },
      "execution_count": 6,
      "outputs": [
        {
          "output_type": "stream",
          "name": "stdout",
          "text": [
            "12 not vote\n",
            "3 not vote\n",
            "17 not vote\n",
            "10 not vote\n",
            "21 vote\n",
            "19 vote\n"
          ]
        }
      ]
    },
    {
      "cell_type": "code",
      "source": [
        "\n",
        "#10). write a python program to find person belongs to which type of group\n",
        "\n",
        "#school group lessthen 22\n",
        "#work group lessthen 22 and greater then 50\n",
        "#retire group graterthen 5\n",
        "\n",
        "a={56,23,60,17,18,30}\n",
        "for age in a:\n",
        "    if age<=22:\n",
        "        print(age,\"School\")\n",
        "    elif age>=22 and age<=50:\n",
        "        print(age,\"Work\")\n",
        "    else:\n",
        "        print(age,\"Reatir\")"
      ],
      "metadata": {
        "colab": {
          "base_uri": "https://localhost:8080/"
        },
        "id": "kLDLOsMzJgYx",
        "outputId": "aa5b93c4-ae36-45ab-e48f-0f0165051f25"
      },
      "execution_count": 10,
      "outputs": [
        {
          "output_type": "stream",
          "name": "stdout",
          "text": [
            "17 School\n",
            "18 School\n",
            "23 Work\n",
            "56 Reatir\n",
            "60 Reatir\n",
            "30 Work\n"
          ]
        }
      ]
    }
  ]
}