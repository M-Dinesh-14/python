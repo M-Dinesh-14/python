{
  "nbformat": 4,
  "nbformat_minor": 0,
  "metadata": {
    "colab": {
      "provenance": [],
      "authorship_tag": "ABX9TyPBjnI8bdNO5OxSy7twEvzQ",
      "include_colab_link": true
    },
    "kernelspec": {
      "name": "python3",
      "display_name": "Python 3"
    },
    "language_info": {
      "name": "python"
    }
  },
  "cells": [
    {
      "cell_type": "markdown",
      "metadata": {
        "id": "view-in-github",
        "colab_type": "text"
      },
      "source": [
        "<a href=\"https://colab.research.google.com/github/M-Dinesh-14/python/blob/main/sets_python.ipynb\" target=\"_parent\"><img src=\"https://colab.research.google.com/assets/colab-badge.svg\" alt=\"Open In Colab\"/></a>"
      ]
    },
    {
      "cell_type": "markdown",
      "source": [
        "#Python Sets\n",
        "Sets are used to store multiple items in a single variable.\n",
        "\n",
        "Set is one of 4 built-in data types in Python used to store collections of data.\n",
        "\n",
        "A set is a collection which is unordered, unchangeable*, and unindexed.\n",
        "\n",
        "they are defind by curly brackets({})."
      ],
      "metadata": {
        "id": "7Tmrb3E6CBph"
      }
    },
    {
      "cell_type": "markdown",
      "source": [
        "#Creating a set"
      ],
      "metadata": {
        "id": "w4lpwEHSDDZf"
      }
    },
    {
      "cell_type": "code",
      "source": [
        "#empty set\n",
        "\n",
        "#empty_set=set()\n",
        "\n",
        " #creating a set with elements in list form\n",
        "\n",
        "animals=set(['dog','frog','cat','lion','tiger'])\n",
        "print(animals)\n",
        "print(type(animals))\n",
        "#duplicate items:-\n",
        "#Sets cannot have two items with the same value.\n",
        "a={1,2,4,5,2,5,4,1,2,6,7,1,2,4,5,6,7,1,9,8,6,4,3,1,3,4,5,64}\n",
        "print(a)\n"
      ],
      "metadata": {
        "colab": {
          "base_uri": "https://localhost:8080/"
        },
        "id": "H-0M89x1D2MZ",
        "outputId": "4f0d111e-ac04-462c-88e5-ce5d7edb1836"
      },
      "execution_count": null,
      "outputs": [
        {
          "output_type": "stream",
          "name": "stdout",
          "text": [
            "{'lion', 'dog', 'frog', 'cat', 'tiger'}\n",
            "<class 'set'>\n",
            "{64, 1, 2, 3, 4, 5, 6, 7, 8, 9}\n"
          ]
        }
      ]
    },
    {
      "cell_type": "markdown",
      "source": [
        "# Add and update set items\n"
      ],
      "metadata": {
        "id": "JjSvGpMjHgeK"
      }
    },
    {
      "cell_type": "code",
      "source": [
        "#Add and updata set items\n",
        "\n",
        "#add():-set.add adds an individual element to the set\n",
        "a={1,2,3,4,5,3,2,3,1,3,4,2,7,6,5,3,2,6}\n",
        "a.add(68)\n",
        "print(a)"
      ],
      "metadata": {
        "colab": {
          "base_uri": "https://localhost:8080/"
        },
        "id": "oKZN4ks_Htll",
        "outputId": "221da961-460c-48a2-a368-290a59512ebf"
      },
      "execution_count": null,
      "outputs": [
        {
          "output_type": "stream",
          "name": "stdout",
          "text": [
            "{1, 2, 3, 4, 5, 6, 7, 68}\n"
          ]
        }
      ]
    },
    {
      "cell_type": "code",
      "source": [
        "#update set()\n",
        "#can pass multiple iterables to it and it will iterate all items\n",
        "a={'dinesh','nani'}\n",
        "b = {'sky','earth','dhnush','ramesh'}\n",
        "update_a = a.update(b)\n",
        "print(a)\n",
        "\n"
      ],
      "metadata": {
        "colab": {
          "base_uri": "https://localhost:8080/"
        },
        "id": "ZlFnMRAnKAtH",
        "outputId": "a877c876-ad06-48ff-96b6-aa5f14f0b920"
      },
      "execution_count": null,
      "outputs": [
        {
          "output_type": "stream",
          "name": "stdout",
          "text": [
            "{'dhnush', 'ramesh', 'earth', 'nani', 'sky', 'dinesh'}\n"
          ]
        }
      ]
    },
    {
      "cell_type": "code",
      "source": [
        "# remove the elements in set\n",
        "\n",
        "b = {'sky','earth','dhnush','ramesh'}\n",
        "c = b.remove('earth')\n",
        "print(b)\n"
      ],
      "metadata": {
        "colab": {
          "base_uri": "https://localhost:8080/"
        },
        "id": "_2CJi-DrUypq",
        "outputId": "49141ca3-58f9-48a4-abd7-3d8e4aedd7c9"
      },
      "execution_count": null,
      "outputs": [
        {
          "output_type": "stream",
          "name": "stdout",
          "text": [
            "{'dhnush', 'sky', 'ramesh'}\n"
          ]
        }
      ]
    },
    {
      "cell_type": "markdown",
      "source": [
        "# python sets operation\n",
        "\n"
      ],
      "metadata": {
        "id": "GLOCWXy_U_Jn"
      }
    },
    {
      "cell_type": "markdown",
      "source": [
        "a set is an unordered, mutable collection of unique elements."
      ],
      "metadata": {
        "id": "q-DIP7l7VJIG"
      }
    },
    {
      "cell_type": "markdown",
      "source": [
        "#1.union\n",
        "\n",
        "  The union() method returns a set that contains all items from the original set\n",
        "\n",
        "  union is defind by union() or '|'"
      ],
      "metadata": {
        "id": "vv1r2UOUVwiM"
      }
    },
    {
      "cell_type": "code",
      "source": [
        "from re import X\n",
        "a={1,2,3,4,6}\n",
        "b={3,4,5,2,8}\n",
        "a=a.union(b)\n",
        "print(a)\n",
        "c={8,2,1,4,6}\n",
        "d={9,2,3,4,2,1}\n",
        "d=c|d\n",
        "print(d)\n",
        "v = {'f','h','t','a'}\n",
        "m = {3,5,7,2}\n",
        "v=v.union(m)\n",
        "print(v)\n",
        "f = {'h','g','j','h'}\n",
        "e = {'k','d','l','s'}\n",
        "f=f|e\n",
        "print(f)\n",
        "g = {3,6,5,4,5}\n",
        "h = {4,5,9,0}\n",
        "g=h|g\n",
        "print(g)\n",
        "y = {\"mallu\",\"pati\",\"govind\"}\n",
        "i = {65,78,94}\n",
        "i=y|i\n",
        "print(i)\n",
        "x = {1,5,7,9}\n",
        "z = {8,9,4,6,8}\n",
        "x=x|z\n",
        "print(x)\n",
        "p={1,2,3,4,3,5,3,4,2,3,1,5}\n",
        "s = {5,6,4,5,2,5,1,2,7,5,8,9,2,3,4,}\n",
        "s=p|s\n",
        "print(s)"
      ],
      "metadata": {
        "colab": {
          "base_uri": "https://localhost:8080/"
        },
        "id": "ht_MFZy0WFVa",
        "outputId": "d26a05eb-d1df-4720-f807-2c2e9c055c86"
      },
      "execution_count": null,
      "outputs": [
        {
          "output_type": "stream",
          "name": "stdout",
          "text": [
            "{1, 2, 3, 4, 5, 6, 8}\n",
            "{1, 2, 3, 4, 6, 8, 9}\n",
            "{'a', 2, 3, 5, 't', 7, 'f', 'h'}\n",
            "{'k', 'd', 'g', 's', 'j', 'h', 'l'}\n",
            "{0, 3, 4, 5, 6, 9}\n",
            "{65, 'pati', 94, 'govind', 78, 'mallu'}\n",
            "{1, 4, 5, 6, 7, 8, 9}\n",
            "{1, 2, 3, 4, 5, 6, 7, 8, 9}\n"
          ]
        }
      ]
    },
    {
      "cell_type": "markdown",
      "source": [
        "#2.intersection.\n",
        "\n",
        "The intersection of tow sets of its include the elements between two sets.\n",
        "\n",
        "it defind by '&'."
      ],
      "metadata": {
        "id": "eKq3GUbEZlOT"
      }
    },
    {
      "cell_type": "code",
      "source": [
        "a = {5,6,4,5,2,5}\n",
        "b = {2,3,4,6,5,1}\n",
        "a=a&b\n",
        "print(a)\n",
        "c={8,2,1,4,6}\n",
        "d={9,2,3,4,2,1}\n",
        "d=c&d\n",
        "print(d)\n",
        "v = {'f','h',8,2,'t','a'}\n",
        "m = {3,5,7,'t','a',2}\n",
        "v=v.intersection(m)\n",
        "print(v)\n",
        "f = {'h','g','j','h'}\n",
        "e = {'k','g','l','h'}\n",
        "f=f&e\n",
        "print(f)\n",
        "g = {3,6,5,4,5}\n",
        "h = {4,5,9,0}\n",
        "g=h&g\n",
        "print(g)\n",
        "y = {67,89,65,93,94,70,}\n",
        "i = {65,78,94}\n",
        "i=y&i\n",
        "print(i)\n",
        "x = {1,5,7,8,4,9}\n",
        "z = {8,9,4,6,8}\n",
        "x=x&z\n",
        "print(x)\n",
        "p={1,2,3,4,3,5,3,4,2,3,1,5}\n",
        "s = {5,6,4,5,2,5,1,2,7,5,8,9,2,3,4,}\n",
        "s=p&s\n",
        "print(s)"
      ],
      "metadata": {
        "colab": {
          "base_uri": "https://localhost:8080/"
        },
        "id": "diq8o4Xse7vx",
        "outputId": "9a07e4a1-b7bd-4bed-a76a-f938f53aff11"
      },
      "execution_count": null,
      "outputs": [
        {
          "output_type": "stream",
          "name": "stdout",
          "text": [
            "{2, 4, 5, 6}\n",
            "{1, 2, 4}\n",
            "{'a', 2, 't'}\n",
            "{'g', 'h'}\n",
            "{4, 5}\n",
            "{65, 94}\n",
            "{8, 9, 4}\n",
            "{1, 2, 3, 4, 5}\n"
          ]
        }
      ]
    },
    {
      "cell_type": "markdown",
      "source": [
        "#3.Difference:-\n",
        "\n",
        " It is used to difference the between the two sets, include elements of set A that are not present on set B.\n"
      ],
      "metadata": {
        "id": "HbrhjnM5gujc"
      }
    },
    {
      "cell_type": "code",
      "source": [
        " a= {5,6,4,5,2,5}\n",
        "b = {2,3,4,6,5,1}\n",
        "a=a-b\n",
        "print(a)\n",
        "c={8,2,1,4,6}\n",
        "d={9,2,3,4,2,1}\n",
        "d=c-d\n",
        "print(d)\n",
        "v = {'f','h',8,2,'t','a'}\n",
        "m = {3,5,7,'t','a',2}\n",
        "v=v-m\n",
        "print(v)\n",
        "f = {'h','g','j','h'}\n",
        "e = {'k','g','l','h'}\n",
        "f=f-e\n",
        "print(f)\n",
        "g = {3,6,5,4,5}\n",
        "h = {4,5,9,0}\n",
        "g=h-g\n",
        "print(g)\n",
        "y = {67,89,65,93,94,70,}\n",
        "i = {65,78,94}\n",
        "i=y-i\n",
        "print(i)\n",
        "x = {1,5,7,8,4,9}\n",
        "z = {8,9,4,6,8}\n",
        "x=x-z\n",
        "print(x)\n",
        "p={1,2,3,4,3,5,3,4,2,3,1,5}\n",
        "s = {5,6,4,5,2,5,1,2,7,5,8,9,2,3,4,}\n",
        "s=s-p\n",
        "print(s)"
      ],
      "metadata": {
        "colab": {
          "base_uri": "https://localhost:8080/"
        },
        "id": "aoALqSU5igNa",
        "outputId": "b335c737-5198-4c92-9a9d-d998d05f84f8"
      },
      "execution_count": null,
      "outputs": [
        {
          "output_type": "stream",
          "name": "stdout",
          "text": [
            "set()\n",
            "{8, 6}\n",
            "{8, 'f', 'h'}\n",
            "{'j'}\n",
            "{0, 9}\n",
            "{89, 67, 93, 70}\n",
            "{1, 5, 7}\n",
            "{8, 9, 6, 7}\n"
          ]
        }
      ]
    },
    {
      "cell_type": "markdown",
      "source": [
        "# Sets of Symmetric Differenc.\n",
        "\n",
        "Symmetric Differenc between two sets A and B includeing all elements of A and B without common elements.\n",
        "It defind by '^'.\n",
        "\n"
      ],
      "metadata": {
        "id": "7LtImobwi-uw"
      }
    },
    {
      "cell_type": "code",
      "source": [
        "a= {5,6,4,5,2,5}\n",
        "b = {2,3,4,6,5,1}\n",
        "a=a^b\n",
        "print(a)\n",
        "c={8,2,1,4,6}\n",
        "d={9,2,3,4,2,1}\n",
        "d=c^d\n",
        "print(d)\n",
        "v = {'f','h',8,2,'t','a'}\n",
        "m = {3,5,7,'t','a',2}\n",
        "v=v^m\n",
        "print(v)\n",
        "f = {'h','g','j','h'}\n",
        "e = {'k','g','l','h'}\n",
        "f=f^e\n",
        "print(f)\n",
        "g = {3,6,5,4,5}\n",
        "h = {4,5,9,0}\n",
        "g=h^g\n",
        "print(g)\n",
        "y = {67,89,65,93,94,70,}\n",
        "i = {65,78,94}\n",
        "i=y^i\n",
        "print(i)\n",
        "x = {1,5,7,8,4,9}\n",
        "z = {8,9,4,6,8}\n",
        "x=x^z\n",
        "print(x)\n",
        "p={1,2,3,4,3,5,3,4,2,3,1,5}\n",
        "s = {5,6,4,5,2,5,1,2,7,5,8,9,2,3,4,}\n",
        "s=s^p\n",
        "print(s)"
      ],
      "metadata": {
        "colab": {
          "base_uri": "https://localhost:8080/"
        },
        "id": "GMk44c5pj70w",
        "outputId": "cf0d5099-bfd4-4f77-dd98-08c305bf466a"
      },
      "execution_count": null,
      "outputs": [
        {
          "output_type": "stream",
          "name": "stdout",
          "text": [
            "{1, 3}\n",
            "{3, 6, 8, 9}\n",
            "{'f', 3, 5, 7, 8, 'h'}\n",
            "{'l', 'k', 'j'}\n",
            "{0, 3, 6, 9}\n",
            "{67, 70, 78, 89, 93}\n",
            "{1, 5, 6, 7}\n",
            "{6, 7, 8, 9}\n"
          ]
        }
      ]
    }
  ]
}