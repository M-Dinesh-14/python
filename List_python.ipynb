{
  "nbformat": 4,
  "nbformat_minor": 0,
  "metadata": {
    "colab": {
      "provenance": [],
      "toc_visible": true,
      "authorship_tag": "ABX9TyNX/SiwoczJcnsZa+ob3Xeu",
      "include_colab_link": true
    },
    "kernelspec": {
      "name": "python3",
      "display_name": "Python 3"
    },
    "language_info": {
      "name": "python"
    }
  },
  "cells": [
    {
      "cell_type": "markdown",
      "metadata": {
        "id": "view-in-github",
        "colab_type": "text"
      },
      "source": [
        "<a href=\"https://colab.research.google.com/github/M-Dinesh-14/python/blob/main/List_python.ipynb\" target=\"_parent\"><img src=\"https://colab.research.google.com/assets/colab-badge.svg\" alt=\"Open In Colab\"/></a>"
      ]
    },
    {
      "cell_type": "code",
      "execution_count": null,
      "metadata": {
        "id": "6URVRx0iANqt"
      },
      "outputs": [],
      "source": []
    },
    {
      "cell_type": "markdown",
      "source": [
        "# List:-\n",
        "Lists are used to store multiple items in a single variable.\n",
        "* collection elements/order of list.\n",
        "* it is mutable.\n",
        "* the list is denoted by [].\n",
        "* ordered sequence of element.\n",
        "# Index:-\n",
        "\n",
        "### It used to find the position of element in list\n",
        "* ther two types of index\n",
        "1. positive (0 to ..)\n",
        "2. negitive (-1 to ..) italicized text"
      ],
      "metadata": {
        "id": "14qrnXHOg5ou"
      }
    },
    {
      "cell_type": "code",
      "source": [
        "a=[1,2,3,4,5]\n",
        "print(a[3])\n",
        "b=[-4,-3,-2,-1]\n",
        "print(b[2])\n"
      ],
      "metadata": {
        "colab": {
          "base_uri": "https://localhost:8080/"
        },
        "id": "quUn1fQwhUrD",
        "outputId": "23a97296-926a-45be-cc1d-9cb90a23e1a2"
      },
      "execution_count": null,
      "outputs": [
        {
          "output_type": "stream",
          "name": "stdout",
          "text": [
            "4\n",
            "-2\n"
          ]
        }
      ]
    },
    {
      "cell_type": "code",
      "source": [
        "a=[1,2,3,4,5]\n",
        "print(a[3])\n",
        "b=[-4,-3,-2,-1]\n",
        "print(b[2])\n"
      ],
      "metadata": {
        "colab": {
          "base_uri": "https://localhost:8080/"
        },
        "id": "7kWdXBYglC6H",
        "outputId": "a265003e-83bc-415c-ce5d-48c0d69ea8c3"
      },
      "execution_count": null,
      "outputs": [
        {
          "output_type": "stream",
          "name": "stdout",
          "text": [
            "4\n",
            "-2\n"
          ]
        }
      ]
    },
    {
      "cell_type": "markdown",
      "source": [
        "# Concatenation\n",
        "* it is used to combine two list"
      ],
      "metadata": {
        "id": "xFhh3tbvmMse"
      }
    },
    {
      "cell_type": "code",
      "source": [
        "a=[1,2,3,4]\n",
        "b=[5,6,7,8]\n",
        "c=a+b\n",
        "print(c)"
      ],
      "metadata": {
        "colab": {
          "base_uri": "https://localhost:8080/"
        },
        "id": "MGpK93OQmo8_",
        "outputId": "3f33a21d-5a41-4024-ffcf-20406cbc63c3"
      },
      "execution_count": null,
      "outputs": [
        {
          "output_type": "stream",
          "name": "stdout",
          "text": [
            "[1, 2, 3, 4, 5, 6, 7, 8]\n"
          ]
        }
      ]
    },
    {
      "cell_type": "markdown",
      "source": [
        "# Repeatation\n",
        " * it is used to repeat the list."
      ],
      "metadata": {
        "id": "y9yVYv4mC6eT"
      }
    },
    {
      "cell_type": "code",
      "source": [
        "a=[1,2,3,4]\n",
        "b=a*7\n",
        "print(b)"
      ],
      "metadata": {
        "colab": {
          "base_uri": "https://localhost:8080/"
        },
        "id": "0e_54R3ODhAG",
        "outputId": "817aea41-464e-4fa5-de28-3d016097900c"
      },
      "execution_count": null,
      "outputs": [
        {
          "output_type": "stream",
          "name": "stdout",
          "text": [
            "[1, 2, 3, 4, 1, 2, 3, 4, 1, 2, 3, 4, 1, 2, 3, 4, 1, 2, 3, 4, 1, 2, 3, 4, 1, 2, 3, 4]\n"
          ]
        }
      ]
    },
    {
      "cell_type": "markdown",
      "source": [
        "# Change List Items\n",
        " * To change the value of a specific item,refer to the indea number."
      ],
      "metadata": {
        "id": "_0UNVcsPDtjV"
      }
    },
    {
      "cell_type": "code",
      "source": [
        "a=[\"apple\",\"banana\",\"cherry\"]\n",
        "\n",
        "a[2]=\"pine\"\n",
        "print(a)"
      ],
      "metadata": {
        "colab": {
          "base_uri": "https://localhost:8080/"
        },
        "id": "SCLbR4wHEbTT",
        "outputId": "58c9c725-a0bc-49e2-a549-7bff238bd2c9"
      },
      "execution_count": null,
      "outputs": [
        {
          "output_type": "stream",
          "name": "stdout",
          "text": [
            "['apple', 'banana', 'pine']\n"
          ]
        }
      ]
    },
    {
      "cell_type": "code",
      "source": [
        "#change a rang of item values\n",
        "\n",
        "a=[\"pavan\",\"yuva\",\"sai\",\"ranna\"]\n",
        "a[2:3]=[\"mahesh\",\"dinesh\"]\n",
        "print(a)\n"
      ],
      "metadata": {
        "colab": {
          "base_uri": "https://localhost:8080/"
        },
        "id": "eN1e7NTfFwOY",
        "outputId": "c275be68-ff3f-4670-8b73-bcf10d7fca77"
      },
      "execution_count": null,
      "outputs": [
        {
          "output_type": "stream",
          "name": "stdout",
          "text": [
            "['pavan', 'yuva', 'mahesh', 'dinesh', 'ranna']\n"
          ]
        }
      ]
    },
    {
      "cell_type": "markdown",
      "source": [
        "# List of methods\n",
        "* It is used for list()function to creates a list object.\n",
        "1. append()\n",
        "2. copy()\n",
        "3. clear()\n",
        "4. count()\n",
        "5. extend()\n",
        "6. index()\n",
        "7. insert()\n",
        "8. pop()\n",
        "9. remove()\n",
        "10. reverse()\n",
        "11. sort()\n",
        "12. min()\n",
        "13. max()\n"
      ],
      "metadata": {
        "id": "8KU1JnIYG_R9"
      }
    },
    {
      "cell_type": "markdown",
      "source": [
        "#append()\n",
        " * used to add the element in end of the list"
      ],
      "metadata": {
        "id": "3d5gmK4hIc7X"
      }
    },
    {
      "cell_type": "code",
      "source": [
        "d=[1,2,3,4]\n",
        "d.append(9)\n",
        "print(d)"
      ],
      "metadata": {
        "colab": {
          "base_uri": "https://localhost:8080/"
        },
        "id": "AT-U30iSIry-",
        "outputId": "44e6e221-cc54-4a1d-f754-20cc4148b635"
      },
      "execution_count": null,
      "outputs": [
        {
          "output_type": "stream",
          "name": "stdout",
          "text": [
            "[1, 2, 3, 4, 9]\n"
          ]
        }
      ]
    },
    {
      "cell_type": "markdown",
      "source": [
        "# Copy()\n",
        " it is used to copy the element to one  varible to other varible."
      ],
      "metadata": {
        "id": "HHQixAavI3oa"
      }
    },
    {
      "cell_type": "code",
      "source": [
        "a=[1,2,3,4]\n",
        "b=a.copy()\n",
        "print(b)"
      ],
      "metadata": {
        "colab": {
          "base_uri": "https://localhost:8080/"
        },
        "id": "AbzOUTNaJN-e",
        "outputId": "4fffe468-1d49-4da4-8668-bed08cda39fe"
      },
      "execution_count": null,
      "outputs": [
        {
          "output_type": "stream",
          "name": "stdout",
          "text": [
            "[1, 2, 3, 4]\n"
          ]
        }
      ]
    },
    {
      "cell_type": "markdown",
      "source": [
        "# Clear()\n",
        "It is used to clear the items in the list."
      ],
      "metadata": {
        "id": "p7XSDF8MJcJo"
      }
    },
    {
      "cell_type": "code",
      "source": [
        "a=[5,6,7,8]\n",
        "b=a.clear()\n",
        "print(b)"
      ],
      "metadata": {
        "colab": {
          "base_uri": "https://localhost:8080/"
        },
        "id": "HIstlvWCJvOR",
        "outputId": "4c86f671-4d80-4ee8-8d5c-70641e6a97a1"
      },
      "execution_count": null,
      "outputs": [
        {
          "output_type": "stream",
          "name": "stdout",
          "text": [
            "None\n"
          ]
        }
      ]
    },
    {
      "cell_type": "markdown",
      "source": [
        "# count()\n",
        "It is used to count the elements."
      ],
      "metadata": {
        "id": "vb30F_MfKRvx"
      }
    },
    {
      "cell_type": "code",
      "source": [
        "a=[\"dinesh\",\"dhramesh\",\"ravi\",\"joshi\"]\n",
        "b=a.count(\"joshi\")\n",
        "print(b)"
      ],
      "metadata": {
        "colab": {
          "base_uri": "https://localhost:8080/"
        },
        "id": "NYYy20vKKx9u",
        "outputId": "3eccbe3b-c492-4aa9-b621-f45cf26c9816"
      },
      "execution_count": null,
      "outputs": [
        {
          "output_type": "stream",
          "name": "stdout",
          "text": [
            "1\n"
          ]
        }
      ]
    },
    {
      "cell_type": "markdown",
      "source": [
        "# Extend()\n",
        " It is used to adds each element of an iterable to the end of the list."
      ],
      "metadata": {
        "id": "uk48miI-Mkp2"
      }
    },
    {
      "cell_type": "code",
      "source": [
        "a=[1,8,3,4]\n",
        "b=[5,6,7,2]\n",
        "a.extend(b)\n",
        "print(a)"
      ],
      "metadata": {
        "colab": {
          "base_uri": "https://localhost:8080/"
        },
        "id": "tOcJr6TDNFPp",
        "outputId": "e7c0cb53-9c47-4c77-af28-ad1e2f726368"
      },
      "execution_count": null,
      "outputs": [
        {
          "output_type": "stream",
          "name": "stdout",
          "text": [
            "[1, 8, 3, 4, 5, 6, 7, 2]\n"
          ]
        }
      ]
    },
    {
      "cell_type": "markdown",
      "source": [
        "# Index()\n",
        " It returns the lowest index where the element appears."
      ],
      "metadata": {
        "id": "FRG_vlKVP6ea"
      }
    },
    {
      "cell_type": "code",
      "source": [
        "a=[\"cat\",\"dog\",\"pig\",\"rat\"]\n",
        "print(a.index(\"rat\"))"
      ],
      "metadata": {
        "colab": {
          "base_uri": "https://localhost:8080/"
        },
        "id": "hgZVSpRnQW-C",
        "outputId": "9335d9fb-8715-4f61-eeba-325b2d2d17fa"
      },
      "execution_count": null,
      "outputs": [
        {
          "output_type": "stream",
          "name": "stdout",
          "text": [
            "3\n"
          ]
        }
      ]
    },
    {
      "cell_type": "markdown",
      "source": [
        "# Insert()\n",
        "* insert a given element at a given index in a list."
      ],
      "metadata": {
        "id": "wVOix6iLQ0J2"
      }
    },
    {
      "cell_type": "code",
      "source": [
        "a=[\"banana\",\"cherry\",\"grape\"]\n",
        "a.insert(2,\"apple\")\n",
        "print(a)"
      ],
      "metadata": {
        "colab": {
          "base_uri": "https://localhost:8080/"
        },
        "id": "FxBS0a_KRDef",
        "outputId": "355b0f70-7b98-4e1a-b12c-17596ed7b8ed"
      },
      "execution_count": null,
      "outputs": [
        {
          "output_type": "stream",
          "name": "stdout",
          "text": [
            "['banana', 'cherry', 'apple', 'grape']\n"
          ]
        }
      ]
    },
    {
      "cell_type": "markdown",
      "source": [
        "# pop()\n",
        "* removes a given end object from the list."
      ],
      "metadata": {
        "id": "RVUs9J_CRZbq"
      }
    },
    {
      "cell_type": "code",
      "source": [
        "a=[3,5,6]\n",
        "a.pop()\n",
        "print(a)"
      ],
      "metadata": {
        "colab": {
          "base_uri": "https://localhost:8080/"
        },
        "id": "JXNUZkjQRtUU",
        "outputId": "3cbedc8d-4039-4c01-fb5e-e61e515178b1"
      },
      "execution_count": null,
      "outputs": [
        {
          "output_type": "stream",
          "name": "stdout",
          "text": [
            "[3, 5]\n"
          ]
        }
      ]
    },
    {
      "cell_type": "markdown",
      "source": [
        "# remove()\n",
        "* remove a given object from the list."
      ],
      "metadata": {
        "id": "vEwCpHcBSIJY"
      }
    },
    {
      "cell_type": "code",
      "source": [
        "a=[\"cat\",\"apple\",\"pine\"]\n",
        "a.remove(\"apple\")\n",
        "print(a)"
      ],
      "metadata": {
        "colab": {
          "base_uri": "https://localhost:8080/"
        },
        "id": "wftZmFkyScXk",
        "outputId": "566a0b60-19db-4e78-b572-4829a9e7db75"
      },
      "execution_count": null,
      "outputs": [
        {
          "output_type": "stream",
          "name": "stdout",
          "text": [
            "['cat', 'pine']\n"
          ]
        }
      ]
    },
    {
      "cell_type": "markdown",
      "source": [
        "# reverse()\n",
        "* it will reverses object of the list in place."
      ],
      "metadata": {
        "id": "JNzvHFw3TxwN"
      }
    },
    {
      "cell_type": "code",
      "source": [
        "a=[1,2,3,4,5]\n",
        "a.reverse()\n",
        "print(a)"
      ],
      "metadata": {
        "colab": {
          "base_uri": "https://localhost:8080/"
        },
        "id": "AQ4ZFK8tUwDo",
        "outputId": "76a0a029-283e-430d-f3cd-5f1ef3a972f1"
      },
      "execution_count": null,
      "outputs": [
        {
          "output_type": "stream",
          "name": "stdout",
          "text": [
            "[5, 4, 3, 2, 1]\n"
          ]
        }
      ]
    },
    {
      "cell_type": "markdown",
      "source": [
        "# sort()\n",
        "* Sort a list in ascending or user defined order."
      ],
      "metadata": {
        "id": "CAjjAHXTVYh3"
      }
    },
    {
      "cell_type": "code",
      "source": [
        "a=[5,8,4,2,3,4]\n",
        "a.sort()\n",
        "print(a)"
      ],
      "metadata": {
        "colab": {
          "base_uri": "https://localhost:8080/"
        },
        "id": "m7BHMpFWVsxf",
        "outputId": "e0d1b7b5-2940-408f-e60d-0bfa4c19a198"
      },
      "execution_count": null,
      "outputs": [
        {
          "output_type": "stream",
          "name": "stdout",
          "text": [
            "[2, 3, 4, 4, 5, 8]\n"
          ]
        }
      ]
    },
    {
      "cell_type": "markdown",
      "source": [
        "# min()\n",
        " * it will calculates the minimum of all the element of the list."
      ],
      "metadata": {
        "id": "IO1NpteEV2gy"
      }
    },
    {
      "cell_type": "code",
      "source": [
        "a=[45,46,28,56,38]\n",
        "print(min(a))"
      ],
      "metadata": {
        "colab": {
          "base_uri": "https://localhost:8080/"
        },
        "id": "XfJkyXzlWJx8",
        "outputId": "2b5e63b7-1db7-4c8f-f61d-8aa80c5fcdd9"
      },
      "execution_count": null,
      "outputs": [
        {
          "output_type": "stream",
          "name": "stdout",
          "text": [
            "28\n"
          ]
        }
      ]
    },
    {
      "cell_type": "markdown",
      "source": [
        "# max()\n",
        "* it will calculates the maximum of all the element of the list"
      ],
      "metadata": {
        "id": "jJMQExIqWaMG"
      }
    },
    {
      "cell_type": "code",
      "source": [
        "a=[28,45,38,65,30]\n",
        "print(max(a))"
      ],
      "metadata": {
        "colab": {
          "base_uri": "https://localhost:8080/"
        },
        "id": "JywUxMPjWqQy",
        "outputId": "96ac1944-ef55-47b3-e1cc-1ab616eadba6"
      },
      "execution_count": null,
      "outputs": [
        {
          "output_type": "stream",
          "name": "stdout",
          "text": [
            "65\n"
          ]
        }
      ]
    }
  ]
}