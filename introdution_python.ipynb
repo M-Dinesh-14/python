{
  "nbformat": 4,
  "nbformat_minor": 0,
  "metadata": {
    "colab": {
      "provenance": [],
      "toc_visible": true,
      "collapsed_sections": [
        "McCIHSa81iHC"
      ],
      "authorship_tag": "ABX9TyM70kpLBhqCpTLi5tezetvG",
      "include_colab_link": true
    },
    "kernelspec": {
      "name": "python3",
      "display_name": "Python 3"
    },
    "language_info": {
      "name": "python"
    }
  },
  "cells": [
    {
      "cell_type": "markdown",
      "metadata": {
        "id": "view-in-github",
        "colab_type": "text"
      },
      "source": [
        "<a href=\"https://colab.research.google.com/github/M-Dinesh-14/python/blob/main/introdution_python.ipynb\" target=\"_parent\"><img src=\"https://colab.research.google.com/assets/colab-badge.svg\" alt=\"Open In Colab\"/></a>"
      ]
    },
    {
      "cell_type": "markdown",
      "source": [
        "# Python\n",
        " #Introdution\n",
        " * It is a easy to learn and it is high level language an we can easy write program in english language\n",
        "** it is develped by Guido Van Rossum ** in 1991.\n",
        "\n",
        "#features in python\n",
        "* easy to use.\n",
        "* short cut.\n",
        "* have simple syntax.\n",
        "* object-oriented language.\n",
        "\n",
        "#comment\n",
        "it is used to define the code.\n",
        "* denoted by(#).\n",
        "* 2-types\n",
        "\n",
        "1. # single line :-\n",
        "it is single line comment begins with hash symbol(# ), and the Python interpreter ignores everything that follows it on that line.\n",
        "2. # multi line\n",
        "Python does not have a specific syntax for multiline comments as some other programming languages do. Instead, multiline comments are created by enclosing the text within triple quotes (\"either single quotes or double quotes \")."
      ],
      "metadata": {
        "id": "McCIHSa81iHC"
      }
    },
    {
      "cell_type": "markdown",
      "source": [],
      "metadata": {
        "id": "WpQMQSq2u1NU"
      }
    },
    {
      "cell_type": "code",
      "source": [
        "# print a number\n",
        "print(25)"
      ],
      "metadata": {
        "colab": {
          "base_uri": "https://localhost:8080/"
        },
        "id": "YtBgjKfK-OdE",
        "outputId": "67702401-4582-48cf-fc02-b82a51acc1be"
      },
      "execution_count": null,
      "outputs": [
        {
          "output_type": "stream",
          "name": "stdout",
          "text": [
            "25\n"
          ]
        }
      ]
    },
    {
      "cell_type": "markdown",
      "source": [
        "# keywords list\n",
        "is use in different uses"
      ],
      "metadata": {
        "id": "wtaQG0AducrX"
      }
    },
    {
      "cell_type": "code",
      "source": [
        "import keyword\n",
        "#Get the list of python keywords\n",
        "python_keywords=keyword.kwlist\n",
        "#Display the list of keywords\n",
        "print(python_keywords)\n",
        "len(python_keywords)"
      ],
      "metadata": {
        "colab": {
          "base_uri": "https://localhost:8080/"
        },
        "id": "qxAp43Sxu3ox",
        "outputId": "4178cf5b-a42c-4f79-c74f-c4657c4427bd"
      },
      "execution_count": null,
      "outputs": [
        {
          "output_type": "stream",
          "name": "stdout",
          "text": [
            "['False', 'None', 'True', 'and', 'as', 'assert', 'async', 'await', 'break', 'class', 'continue', 'def', 'del', 'elif', 'else', 'except', 'finally', 'for', 'from', 'global', 'if', 'import', 'in', 'is', 'lambda', 'nonlocal', 'not', 'or', 'pass', 'raise', 'return', 'try', 'while', 'with', 'yield']\n"
          ]
        },
        {
          "output_type": "execute_result",
          "data": {
            "text/plain": [
              "35"
            ]
          },
          "metadata": {},
          "execution_count": 1
        }
      ]
    },
    {
      "cell_type": "code",
      "source": [],
      "metadata": {
        "id": "O_7F25p2vyK0"
      },
      "execution_count": null,
      "outputs": []
    },
    {
      "cell_type": "markdown",
      "source": [
        "# Variables\n",
        "  It is use to store the elements or ithem.\n",
        "\n",
        "#  Rules of Createing Variables:-\n",
        "* variable can be using alpha number characters.\n",
        "* it can't start with digit no (0-9).\n",
        "* keywords can't be used.\n",
        "* specail character can't be used expeat (_).\n",
        "* varible are case sensitive.\n",
        "\n"
      ],
      "metadata": {
        "id": "ZM4bpthrv8UG"
      }
    },
    {
      "cell_type": "code",
      "source": [],
      "metadata": {
        "id": "83C-G2aVxeUi"
      },
      "execution_count": null,
      "outputs": []
    },
    {
      "cell_type": "markdown",
      "source": [
        "# Types of varibles\n",
        "there 2-types\n",
        "# single varible\n",
        "store single valu\n",
        "ex- a=7\n"
      ],
      "metadata": {
        "id": "fUfDclGjxfEj"
      }
    },
    {
      "cell_type": "code",
      "source": [
        "dinesh=7\n",
        "print(dinesh)\n"
      ],
      "metadata": {
        "colab": {
          "base_uri": "https://localhost:8080/"
        },
        "id": "_XJFaIKQyMGl",
        "outputId": "dad86e4e-7a1a-40b2-c6ae-adf9a673ff9f"
      },
      "execution_count": null,
      "outputs": [
        {
          "output_type": "stream",
          "name": "stdout",
          "text": [
            "7\n"
          ]
        }
      ]
    },
    {
      "cell_type": "markdown",
      "source": [
        "# multi varible\n",
        "2-types\n",
        "* multi to multi\n",
        "it can store multi varible in multi valu"
      ],
      "metadata": {
        "id": "Mo78iyigycGo"
      }
    },
    {
      "cell_type": "code",
      "source": [
        "chinnu,nani,ravi= 5,7,2\n",
        "print(chinnu)\n",
        "print(nani)\n",
        "print(ravi)"
      ],
      "metadata": {
        "colab": {
          "base_uri": "https://localhost:8080/"
        },
        "id": "yrHCUIV8zITM",
        "outputId": "f753cfd0-af18-43d4-bdaa-9929ab8ec559"
      },
      "execution_count": null,
      "outputs": [
        {
          "output_type": "stream",
          "name": "stdout",
          "text": [
            "5\n",
            "7\n",
            "2\n"
          ]
        }
      ]
    },
    {
      "cell_type": "markdown",
      "source": [
        "#multi to single\n",
        " it will store element multi varibles in single valu"
      ],
      "metadata": {
        "id": "2tcZymohzpOk"
      }
    },
    {
      "cell_type": "code",
      "source": [
        "a=b=c=10\n",
        "print(a)\n",
        "print(b)\n",
        "print(c)"
      ],
      "metadata": {
        "colab": {
          "base_uri": "https://localhost:8080/"
        },
        "id": "TvlqSL6Xz8mj",
        "outputId": "60637984-0a12-4821-827f-c06871b31be4"
      },
      "execution_count": null,
      "outputs": [
        {
          "output_type": "stream",
          "name": "stdout",
          "text": [
            "10\n",
            "10\n",
            "10\n"
          ]
        }
      ]
    },
    {
      "cell_type": "markdown",
      "source": [],
      "metadata": {
        "id": "bN-JrNQZ0Tqq"
      }
    },
    {
      "cell_type": "markdown",
      "source": [
        "# Data types\n",
        "\n",
        "\n",
        "1.  Basic\n",
        "*   integer\n",
        "*   float\n",
        "*   complex\n",
        "*   Boolean\n",
        "2.  Advance\n",
        "*   list\n",
        "*   string\n",
        "*   tuple\n",
        "*   Dictionary\n",
        "*   set\n",
        "\n",
        "\n"
      ],
      "metadata": {
        "id": "J6PecxxIzwiV"
      }
    },
    {
      "cell_type": "markdown",
      "source": [
        " # Basic\n",
        "*   integer:-\n",
        "    * In Python, integers are classified into zero, positive, or negative whole numbers"
      ],
      "metadata": {
        "id": "F6_91mSRGIVL"
      }
    },
    {
      "cell_type": "code",
      "source": [
        "d=2\n",
        "a=-4\n",
        "r=0\n",
        "print(type(a))\n",
        "print(type(d))\n",
        "print(type(r))"
      ],
      "metadata": {
        "id": "ZU9XuEyy6Tnq",
        "colab": {
          "base_uri": "https://localhost:8080/"
        },
        "outputId": "57fd4be6-8e9b-4016-cc21-9c54f457ee70"
      },
      "execution_count": null,
      "outputs": [
        {
          "output_type": "stream",
          "name": "stdout",
          "text": [
            "<class 'int'>\n",
            "<class 'int'>\n",
            "<class 'int'>\n"
          ]
        }
      ]
    },
    {
      "cell_type": "markdown",
      "source": [
        "* Float ( Decimal value)\n",
        "\n",
        "Float is a function or reusable code in the Python programming language that converts values into floating point numbers."
      ],
      "metadata": {
        "id": "ufHu-Wn0HQdZ"
      }
    },
    {
      "cell_type": "code",
      "source": [
        "d=4.3\n",
        "a=5.4\n",
        "c=-8.7\n",
        "print(type(d))\n",
        "print(type(a))\n",
        "print(type(c))"
      ],
      "metadata": {
        "colab": {
          "base_uri": "https://localhost:8080/"
        },
        "id": "T7vMocOxHSFb",
        "outputId": "db2220d9-36f9-4cff-e2bd-640341a95054"
      },
      "execution_count": null,
      "outputs": [
        {
          "output_type": "stream",
          "name": "stdout",
          "text": [
            "<class 'float'>\n",
            "<class 'float'>\n",
            "<class 'float'>\n"
          ]
        }
      ]
    },
    {
      "cell_type": "markdown",
      "source": [
        "* Complex ( Real number + image number)\n",
        "\n",
        "In Python, a complex number is a numeric data type that stores complex numbers."
      ],
      "metadata": {
        "id": "SplsgP3JHunk"
      }
    },
    {
      "cell_type": "code",
      "source": [
        "a=4+2j\n",
        "b=3-2j\n",
        "print(type(a))\n",
        "print(type(b))"
      ],
      "metadata": {
        "colab": {
          "base_uri": "https://localhost:8080/"
        },
        "id": "tJ6kfoP8HwEs",
        "outputId": "e80d1129-a031-4f52-d11e-ec76e66afc3b"
      },
      "execution_count": null,
      "outputs": [
        {
          "output_type": "stream",
          "name": "stdout",
          "text": [
            "<class 'complex'>\n",
            "<class 'complex'>\n"
          ]
        }
      ]
    },
    {
      "cell_type": "markdown",
      "source": [
        "* Boolean\n",
        "\n",
        "   In general, a Boolean variable can have only two values - True or False.\n"
      ],
      "metadata": {
        "id": "FR6XvvDnIFMK"
      }
    },
    {
      "cell_type": "code",
      "source": [
        "a=7\n",
        "b=4\n",
        "print(type(a>b))\n",
        "print(a>b)\n"
      ],
      "metadata": {
        "colab": {
          "base_uri": "https://localhost:8080/"
        },
        "id": "OCBy3hTiIQaK",
        "outputId": "6aaef425-d65d-4df9-9c74-85c340794555"
      },
      "execution_count": null,
      "outputs": [
        {
          "output_type": "stream",
          "name": "stdout",
          "text": [
            "<class 'bool'>\n",
            "True\n"
          ]
        }
      ]
    },
    {
      "cell_type": "markdown",
      "source": [
        "#operators in Python:\n",
        "\n",
        "  Operators are used to perform operations on variables and values.\n",
        "\n",
        "  *  there are 7-types of operators are:-\n",
        "* Arithmetic Operators.\n",
        "* Assignment Operators.\n",
        "* Comparison Operators.\n",
        "* Logical Operators.\n",
        "* Membership Operators.\n",
        "* Identity Operators.\n",
        "* Bitwise Operators.\n"
      ],
      "metadata": {
        "id": "oAQrNd4oIuEW"
      }
    },
    {
      "cell_type": "code",
      "source": [],
      "metadata": {
        "id": "QDBuOwjqKVJA"
      },
      "execution_count": null,
      "outputs": []
    },
    {
      "cell_type": "markdown",
      "source": [
        "# Arithmetic Operators.:-\n",
        "  \n",
        "   Arithmetic operators are used with numeric values to perform common mathematical operations.ex- +,-,*,/,%,**"
      ],
      "metadata": {
        "id": "oBONgE0IKVwn"
      }
    },
    {
      "cell_type": "markdown",
      "source": [
        "#1.Addition"
      ],
      "metadata": {
        "id": "FFLjgKnILkX0"
      }
    },
    {
      "cell_type": "code",
      "source": [
        "a=2\n",
        "b=3\n",
        "c=a+b\n",
        "print(c)"
      ],
      "metadata": {
        "colab": {
          "base_uri": "https://localhost:8080/"
        },
        "id": "KVTEWDbQK2Fa",
        "outputId": "53f9e12a-1442-42b4-df8e-e547d8d31d18"
      },
      "execution_count": null,
      "outputs": [
        {
          "output_type": "stream",
          "name": "stdout",
          "text": [
            "5\n"
          ]
        }
      ]
    },
    {
      "cell_type": "markdown",
      "source": [
        "#2.Subtraction"
      ],
      "metadata": {
        "id": "muSetgK2LXqB"
      }
    },
    {
      "cell_type": "code",
      "source": [
        "a=4\n",
        "b=2\n",
        "c=a-b\n",
        "print(c)"
      ],
      "metadata": {
        "colab": {
          "base_uri": "https://localhost:8080/"
        },
        "id": "fwInsluMLFaV",
        "outputId": "4bd8307b-7be8-4514-b83d-fc3c45e49b5e"
      },
      "execution_count": null,
      "outputs": [
        {
          "output_type": "stream",
          "name": "stdout",
          "text": [
            "2\n"
          ]
        }
      ]
    },
    {
      "cell_type": "markdown",
      "source": [
        "#3.Division"
      ],
      "metadata": {
        "id": "ZU_XbdqDLp-l"
      }
    },
    {
      "cell_type": "code",
      "source": [],
      "metadata": {
        "id": "vQpv6Eu_5RSr"
      },
      "execution_count": null,
      "outputs": []
    },
    {
      "cell_type": "code",
      "source": [
        "a=7\n",
        "b=3\n",
        "c=a/b\n",
        "print(c)"
      ],
      "metadata": {
        "colab": {
          "base_uri": "https://localhost:8080/"
        },
        "id": "wegsp5ElLu87",
        "outputId": "ffa277aa-e32e-48df-b344-ee8ca04beae4"
      },
      "execution_count": null,
      "outputs": [
        {
          "output_type": "stream",
          "name": "stdout",
          "text": [
            "2.3333333333333335\n"
          ]
        }
      ]
    },
    {
      "cell_type": "markdown",
      "source": [
        "#4.Modulus"
      ],
      "metadata": {
        "id": "qJQev2ixL44Z"
      }
    },
    {
      "cell_type": "code",
      "source": [
        "\n",
        "a=5\n",
        "b=7\n",
        "c=a%b\n",
        "print(c)"
      ],
      "metadata": {
        "colab": {
          "base_uri": "https://localhost:8080/"
        },
        "id": "VQEiyGYKMCZb",
        "outputId": "04f78abc-c0f3-4695-f176-aba698088825"
      },
      "execution_count": null,
      "outputs": [
        {
          "output_type": "stream",
          "name": "stdout",
          "text": [
            "5\n"
          ]
        }
      ]
    },
    {
      "cell_type": "markdown",
      "source": [
        "#5.Exponentiation\t(power)\n",
        "\n",
        "\n"
      ],
      "metadata": {
        "id": "Sudg1iuLMZaL"
      }
    },
    {
      "cell_type": "code",
      "source": [
        "a=6\n",
        "b=3\n",
        "c=a**b\n",
        "print(c)\n"
      ],
      "metadata": {
        "colab": {
          "base_uri": "https://localhost:8080/"
        },
        "id": "E4uLp85XflZG",
        "outputId": "ef06950a-689e-4d78-9dee-dc1ffc73697b"
      },
      "execution_count": null,
      "outputs": [
        {
          "output_type": "stream",
          "name": "stdout",
          "text": [
            "216\n"
          ]
        }
      ]
    },
    {
      "cell_type": "markdown",
      "source": [
        "#Assignment\n",
        "\n",
        " It is use to assign to the Arithmetic operations\n",
        "  * operator are :- +=,-=,/=,<=,>="
      ],
      "metadata": {
        "id": "caqZ1dAEf4lN"
      }
    },
    {
      "cell_type": "code",
      "source": [
        "a=7\n",
        "b=4\n",
        "a+=b\n",
        "print(a)\n",
        "a-=b\n",
        "print(b)\n",
        "a/=b\n",
        "print(a)\n",
        "a<=b\n",
        "print(b)"
      ],
      "metadata": {
        "colab": {
          "base_uri": "https://localhost:8080/"
        },
        "id": "gRtHhPRqgpt_",
        "outputId": "2d8242fb-16c0-40b9-e900-606c80b08e9b"
      },
      "execution_count": null,
      "outputs": [
        {
          "output_type": "stream",
          "name": "stdout",
          "text": [
            "11\n",
            "4\n",
            "1.75\n",
            "4\n"
          ]
        }
      ]
    },
    {
      "cell_type": "markdown",
      "source": [
        "# Comparison operators\n",
        " * It is used to compare values and return a result as ture or flase.\n",
        " * operators are :- ==,!=,<,>,<=,>=."
      ],
      "metadata": {
        "id": "-QisPcmzhRzT"
      }
    },
    {
      "cell_type": "code",
      "source": [
        "F=45\n",
        "g=67\n",
        "print(F==g)\n",
        "print(F!=g)\n",
        "print(F>g)\n",
        "print(F<g)\n",
        "print(F>=g)\n",
        "print(F<=g)\n"
      ],
      "metadata": {
        "colab": {
          "base_uri": "https://localhost:8080/"
        },
        "id": "aU0RWEHfh5Xq",
        "outputId": "67ffcd7b-9240-4a22-9aba-770e98445c4c"
      },
      "execution_count": null,
      "outputs": [
        {
          "output_type": "stream",
          "name": "stdout",
          "text": [
            "False\n",
            "True\n",
            "False\n",
            "True\n",
            "False\n",
            "True\n"
          ]
        }
      ]
    },
    {
      "cell_type": "markdown",
      "source": [
        "# Logical Opreator\n",
        "* There 3-types:-\n",
        "* And:- It should satisfy both statments than it result will be true, if one statment is not satisfy than it result will be false.\n",
        "* Or:- In this opreator if any one statment have been satisfy than the result will be true,if both statment will be not satisfy then the result will be flase  \n",
        "* Not:- If the both statment are satisfy then the result will be false,if the both statments are not satisfy then the reults will be ture."
      ],
      "metadata": {
        "id": "F5jEzpuJjYiJ"
      }
    },
    {
      "cell_type": "code",
      "source": [
        "a=3\n",
        "b=8\n",
        "c=a<b and b>a\n",
        "print(c)\n",
        "c=a>b and b>a\n",
        "print(c)\n",
        "c=a>b or b>a\n",
        "print(c)\n",
        "c=a>b or b<a\n",
        "print(c)\n",
        "c=not(a<b and b>a)\n",
        "print(c)\n",
        "c=not(a>b and b<a)\n",
        "print(c)"
      ],
      "metadata": {
        "colab": {
          "base_uri": "https://localhost:8080/"
        },
        "id": "QLv4bB4_mr-q",
        "outputId": "f2bfd387-a96b-4625-f459-1a582af41dfc"
      },
      "execution_count": null,
      "outputs": [
        {
          "output_type": "stream",
          "name": "stdout",
          "text": [
            "True\n",
            "False\n",
            "True\n",
            "False\n",
            "False\n",
            "True\n"
          ]
        }
      ]
    },
    {
      "cell_type": "markdown",
      "source": [
        "# Membership Operators.\n",
        "\n",
        "* It will check iteam is present in the list or not.it show the result in the boolean from.\n",
        "* it denoted by in and not in."
      ],
      "metadata": {
        "id": "xRVx__Jvxx8A"
      }
    },
    {
      "cell_type": "code",
      "source": [
        "a = \"i an going to teks academy\"\n",
        "print(\"an\" in a)\n",
        "print(\"g\" not in a)\n"
      ],
      "metadata": {
        "colab": {
          "base_uri": "https://localhost:8080/"
        },
        "id": "fQuC_0BezUYN",
        "outputId": "5b6a3ff6-cab7-48d4-bc01-26239c877d4f"
      },
      "execution_count": null,
      "outputs": [
        {
          "output_type": "stream",
          "name": "stdout",
          "text": [
            "True\n",
            "False\n"
          ]
        }
      ]
    },
    {
      "cell_type": "markdown",
      "source": [
        "# Identify operator\n",
        "* It will identify name in the sentance or in a variable,function\n",
        "* It denoted by is and is not."
      ],
      "metadata": {
        "id": "yiuYWFBohxF-"
      }
    },
    {
      "cell_type": "code",
      "source": [
        "a=\"hello\"\n",
        "b=\"world\"\n",
        "print(a is b)\n",
        "print(a is not b)"
      ],
      "metadata": {
        "colab": {
          "base_uri": "https://localhost:8080/"
        },
        "id": "9NjZmmifi2Ve",
        "outputId": "73d811fc-cc3a-416a-86d4-cc24c0fa19ee"
      },
      "execution_count": null,
      "outputs": [
        {
          "output_type": "stream",
          "name": "stdout",
          "text": [
            "False\n",
            "True\n"
          ]
        }
      ]
    },
    {
      "cell_type": "markdown",
      "source": [],
      "metadata": {
        "id": "buCfg2yGj3mG"
      }
    }
  ]
}