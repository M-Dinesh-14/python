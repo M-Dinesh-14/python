{
  "nbformat": 4,
  "nbformat_minor": 0,
  "metadata": {
    "colab": {
      "provenance": [],
      "authorship_tag": "ABX9TyO7kL1ZWUcgmTCNXJJ93SNI",
      "include_colab_link": true
    },
    "kernelspec": {
      "name": "python3",
      "display_name": "Python 3"
    },
    "language_info": {
      "name": "python"
    }
  },
  "cells": [
    {
      "cell_type": "markdown",
      "metadata": {
        "id": "view-in-github",
        "colab_type": "text"
      },
      "source": [
        "<a href=\"https://colab.research.google.com/github/M-Dinesh-14/python/blob/main/inheritence.ipynb\" target=\"_parent\"><img src=\"https://colab.research.google.com/assets/colab-badge.svg\" alt=\"Open In Colab\"/></a>"
      ]
    },
    {
      "cell_type": "markdown",
      "source": [
        "# inheritence\n",
        "way of creating a new class from an existing class without any mofifying it\n",
        "* The newly formed class is derived class and also called as Child class\n",
        "* The existing class is called base class or Child class\n",
        "we can have 1 parent class - 2 child classes or\n",
        "1 parent class - 1 child class"
      ],
      "metadata": {
        "id": "8pWNhahfwxCr"
      }
    },
    {
      "cell_type": "markdown",
      "source": [
        "First we need to create the base class and using base class we can create the child class\n",
        "class person:"
      ],
      "metadata": {
        "id": "Xl0dPiFAxBzR"
      }
    },
    {
      "cell_type": "code",
      "execution_count": 5,
      "metadata": {
        "colab": {
          "base_uri": "https://localhost:8080/"
        },
        "id": "DjfIa0LKwr7o",
        "outputId": "70f27205-932e-4bdf-fd84-7684e8d27311"
      },
      "outputs": [
        {
          "output_type": "stream",
          "name": "stdout",
          "text": [
            "25\n",
            "26\n"
          ]
        }
      ],
      "source": [
        "class person:\n",
        "   def __init__(self,name,age):\n",
        "        self.name=name\n",
        "        self.age=age\n",
        "\n",
        "class dinesh(person):\n",
        "    def Myname(self):\n",
        "        print(\"My name is dinesh\")\n",
        "\n",
        "class sujeeth(person):\n",
        "    def Myname(self):\n",
        "        print(\"My name is sujeeth\")\n",
        "\n",
        "d=dinesh(\"dinesh\",25)\n",
        "s=sujeeth(\"sujeeth\",26)\n",
        "print(d.age)\n",
        "print( s.age)\n",
        "\n",
        ""
      ]
    },
    {
      "cell_type": "code",
      "source": [
        "\n",
        "class bike:\n",
        "\n",
        "    def color(self):\n",
        "        print(\"The color is black\")\n",
        "\n",
        "    def sound(self):\n",
        "        print(\"The sound is keek keek!\")\n",
        "\n",
        "class Honda(bike):\n",
        "\n",
        "    def Brand(self):\n",
        "        print(\"The Brand name is Honda\")\n",
        "\n",
        "class FZ(bike):\n",
        "\n",
        "    def Brand(self):\n",
        "        print(\"The Brand name is FZ\")\n"
      ],
      "metadata": {
        "id": "EgDUC7_9xSEp"
      },
      "execution_count": 6,
      "outputs": []
    },
    {
      "cell_type": "code",
      "source": [
        "a=Honda()\n",
        "a.color()\n",
        "a.sound()\n",
        "a.Brand()\n"
      ],
      "metadata": {
        "colab": {
          "base_uri": "https://localhost:8080/"
        },
        "id": "6AkWKDqsx4Ei",
        "outputId": "f35c812f-1fa4-480c-a5ee-f3f7c6e805c5"
      },
      "execution_count": 7,
      "outputs": [
        {
          "output_type": "stream",
          "name": "stdout",
          "text": [
            "The color is black\n",
            "The sound is keek keek!\n",
            "The Brand name is Honda\n"
          ]
        }
      ]
    },
    {
      "cell_type": "code",
      "source": [
        "\n",
        "b=FZ()\n",
        "b.color()\n",
        "b.Brand()\n",
        "\n"
      ],
      "metadata": {
        "colab": {
          "base_uri": "https://localhost:8080/"
        },
        "id": "pdZPRhVuyGty",
        "outputId": "093f7da2-b71e-4293-f34f-c7688aa0bfea"
      },
      "execution_count": 8,
      "outputs": [
        {
          "output_type": "stream",
          "name": "stdout",
          "text": [
            "The color is black\n",
            "The Brand name is FZ\n"
          ]
        }
      ]
    },
    {
      "cell_type": "code",
      "source": [
        "class Teks:\n",
        "\n",
        "    def datascience(self):\n",
        "        print(\"It is DS\")\n",
        "\n",
        "    def dataanalyst(self):\n",
        "        print(\"It is DA\")\n",
        "\n",
        "    def python(self):\n",
        "        print(\"It is included\")\n",
        "\n",
        "class Hitech(Teks):\n",
        "\n",
        "    def Branch(self):\n",
        "        print(\"It is in Hitech city\")\n",
        "\n",
        "class Ammerpet(Teks):\n",
        "\n",
        "    def Branch(self):\n",
        "        print(\"It is in Ameerpet location\")\n",
        "a=Hitech()\n",
        "a.datascience()\n",
        "a.python()\n",
        "a.Branch()\n"
      ],
      "metadata": {
        "colab": {
          "base_uri": "https://localhost:8080/"
        },
        "id": "_ls_lFxHySYZ",
        "outputId": "1c47f1ef-00f7-4a10-e2bf-b90587204e67"
      },
      "execution_count": 9,
      "outputs": [
        {
          "output_type": "stream",
          "name": "stdout",
          "text": [
            "It is DS\n",
            "It is included\n",
            "It is in Hitech city\n"
          ]
        }
      ]
    },
    {
      "cell_type": "code",
      "source": [
        "\n",
        "b=Ammerpet()\n",
        "b.dataanalyst()\n",
        "b.Branch()\n"
      ],
      "metadata": {
        "colab": {
          "base_uri": "https://localhost:8080/"
        },
        "id": "qv3MkUiYyXAc",
        "outputId": "26e4f25d-e9ea-48c0-9473-9046f2ad6a95"
      },
      "execution_count": 10,
      "outputs": [
        {
          "output_type": "stream",
          "name": "stdout",
          "text": [
            "It is DA\n",
            "It is in Ameerpet location\n"
          ]
        }
      ]
    }
  ]
}