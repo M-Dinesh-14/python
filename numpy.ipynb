{
  "nbformat": 4,
  "nbformat_minor": 0,
  "metadata": {
    "colab": {
      "provenance": [],
      "authorship_tag": "ABX9TyOn6roCI4grjDC5JZU9B5M/",
      "include_colab_link": true
    },
    "kernelspec": {
      "name": "python3",
      "display_name": "Python 3"
    },
    "language_info": {
      "name": "python"
    }
  },
  "cells": [
    {
      "cell_type": "markdown",
      "metadata": {
        "id": "view-in-github",
        "colab_type": "text"
      },
      "source": [
        "<a href=\"https://colab.research.google.com/github/M-Dinesh-14/python/blob/main/numpy.ipynb\" target=\"_parent\"><img src=\"https://colab.research.google.com/assets/colab-badge.svg\" alt=\"Open In Colab\"/></a>"
      ]
    },
    {
      "cell_type": "markdown",
      "source": [
        "# Numpy\n",
        "\n",
        "NumPy is an open source mathematical and scientific computing library for Python programming tasks it is denoted by np.\n",
        "\n",
        "* The NumPy library offers a collection of high-level mathematical functions including support for multi-dimensional arrays, masked arrays and matrices.\n",
        "* A Python list is most suitable for data storage and not ideally intended for math tasks, while a NumPy list can easily support math-intensive tasks."
      ],
      "metadata": {
        "id": "KfueCAht0ZzP"
      }
    },
    {
      "cell_type": "markdown",
      "source": [
        "# ndarrays\n",
        "\n",
        "The primary data structure in NumPy is the N-dimensional array -- called an ndarray or simply an array.\n",
        "*  Every ndarray is a fixed-size array that is kept in memory and contains the same type of data such as integer or floating-point numbers."
      ],
      "metadata": {
        "id": "GGT_IB0V1nNO"
      }
    },
    {
      "cell_type": "code",
      "source": [
        "p"
      ],
      "metadata": {
        "id": "MOQ1dlNr2Ne2"
      },
      "execution_count": null,
      "outputs": []
    },
    {
      "cell_type": "markdown",
      "source": [
        "# Applications of numpy.\n",
        "* Matplotlib.\n",
        "* Pandas.\n",
        "* scikit-image.\n",
        "* scikit-learn.\n",
        "* SciPy."
      ],
      "metadata": {
        "id": "AWymM5Fm2MWM"
      }
    },
    {
      "cell_type": "markdown",
      "source": [
        "# import\n",
        "\n",
        "import command to make the module name more relevant, readable or easier to reference."
      ],
      "metadata": {
        "id": "ipjj60IG2vaG"
      }
    },
    {
      "cell_type": "markdown",
      "source": [
        "example of N-dimention by using array by slicing\n",
        "\n",
        "---\n",
        "\n",
        "\n",
        "\n"
      ],
      "metadata": {
        "id": "iH3mJ8xB23Dt"
      }
    },
    {
      "cell_type": "markdown",
      "source": [
        "# copy"
      ],
      "metadata": {
        "id": "9Bf6vCS-5nde"
      }
    },
    {
      "cell_type": "code",
      "source": [
        "import numpy as np\n",
        "d = np.array([2,3,45,4,3])\n",
        "x = d.copy()\n",
        "d[0] = 42\n",
        "print(d)\n",
        "print(x)"
      ],
      "metadata": {
        "id": "T9jFliWz3FYq",
        "colab": {
          "base_uri": "https://localhost:8080/"
        },
        "outputId": "7bc2d7e9-9d32-46a0-d916-fb034263acdd"
      },
      "execution_count": null,
      "outputs": [
        {
          "output_type": "stream",
          "name": "stdout",
          "text": [
            "[42  3 45  4  3]\n",
            "[ 2  3 45  4  3]\n"
          ]
        }
      ]
    },
    {
      "cell_type": "code",
      "source": [],
      "metadata": {
        "id": "la1Z2C6cE4Zj"
      },
      "execution_count": null,
      "outputs": []
    },
    {
      "cell_type": "markdown",
      "source": [
        "# shape"
      ],
      "metadata": {
        "id": "9ad5EVnIE0lD"
      }
    },
    {
      "cell_type": "code",
      "source": [
        "import numpy as np\n",
        "d = np.array([2,3,45,4,3])\n",
        "x = d.shape\n",
        "print(x)"
      ],
      "metadata": {
        "colab": {
          "base_uri": "https://localhost:8080/"
        },
        "id": "xBF5KLwVE8mU",
        "outputId": "3dccac92-bb12-443e-8aa5-06cd74581f2c"
      },
      "execution_count": null,
      "outputs": [
        {
          "output_type": "stream",
          "name": "stdout",
          "text": [
            "(5,)\n"
          ]
        }
      ]
    },
    {
      "cell_type": "code",
      "source": [
        "#reshape\n",
        "d=np.array([1,2,3,4,5,6,7,8,9,0,11,12])\n",
        "print(d)\n",
        "a=d.reshape(4,3)\n",
        "print(a)\n",
        "print(a.size)# size of the array"
      ],
      "metadata": {
        "colab": {
          "base_uri": "https://localhost:8080/"
        },
        "id": "rvMphPx6VJEg",
        "outputId": "a860a65b-6897-4f60-b344-aef0fedf0265"
      },
      "execution_count": 28,
      "outputs": [
        {
          "output_type": "stream",
          "name": "stdout",
          "text": [
            "[ 1  2  3  4  5  6  7  8  9  0 11 12]\n",
            "[[ 1  2  3]\n",
            " [ 4  5  6]\n",
            " [ 7  8  9]\n",
            " [ 0 11 12]]\n",
            "12\n"
          ]
        }
      ]
    },
    {
      "cell_type": "code",
      "source": [
        "d= np.array([[2,5,1],[9,4,7]]) #sort\n",
        "print(d)\n",
        "s=np.sort(d)\n",
        "print(s)"
      ],
      "metadata": {
        "colab": {
          "base_uri": "https://localhost:8080/"
        },
        "id": "gNA3wPp_V6D6",
        "outputId": "a24a3eae-e1b4-41e4-e0af-868880a68881"
      },
      "execution_count": 30,
      "outputs": [
        {
          "output_type": "stream",
          "name": "stdout",
          "text": [
            "[[2 5 1]\n",
            " [9 4 7]]\n",
            "[[1 2 5]\n",
            " [4 7 9]]\n"
          ]
        }
      ]
    },
    {
      "cell_type": "code",
      "source": [
        "ones=np.ones((4,4),int)\n",
        "print(ones)"
      ],
      "metadata": {
        "colab": {
          "base_uri": "https://localhost:8080/"
        },
        "id": "ZVY_uMSQTZUM",
        "outputId": "89fc9f98-18fe-4b73-fe21-af196f3abeb6"
      },
      "execution_count": 20,
      "outputs": [
        {
          "output_type": "stream",
          "name": "stdout",
          "text": [
            "[[1 1 1 1]\n",
            " [1 1 1 1]\n",
            " [1 1 1 1]\n",
            " [1 1 1 1]]\n"
          ]
        }
      ]
    },
    {
      "cell_type": "markdown",
      "source": [
        "0-d t0 0-d"
      ],
      "metadata": {
        "id": "Itf8zOke5zRs"
      }
    },
    {
      "cell_type": "code",
      "source": [
        "import numpy as np\n",
        "d = np.array([2,3,4,5,4,3])\n",
        "print(d[1:2])"
      ],
      "metadata": {
        "colab": {
          "base_uri": "https://localhost:8080/"
        },
        "id": "y22oSqZH52IN",
        "outputId": "d153b608-625f-4678-b2bf-526c739fa550"
      },
      "execution_count": null,
      "outputs": [
        {
          "output_type": "stream",
          "name": "stdout",
          "text": [
            "[3]\n"
          ]
        }
      ]
    },
    {
      "cell_type": "markdown",
      "source": [
        "0-d to 1-d"
      ],
      "metadata": {
        "id": "WnbDDd4T6dWk"
      }
    },
    {
      "cell_type": "code",
      "source": [
        "import numpy as np\n",
        "d = np.array([1,2,3,4,5,6,7,8])\n",
        "print(d[:4])\n",
        "print(d[4:8])\n"
      ],
      "metadata": {
        "colab": {
          "base_uri": "https://localhost:8080/"
        },
        "id": "MuNJxJxv6gj_",
        "outputId": "d477d5c2-2252-4662-9635-4a97bd9a6506"
      },
      "execution_count": null,
      "outputs": [
        {
          "output_type": "stream",
          "name": "stdout",
          "text": [
            "[1 2 3 4]\n",
            "[5 6 7 8]\n"
          ]
        }
      ]
    },
    {
      "cell_type": "markdown",
      "source": [
        "0-d to 2-d"
      ],
      "metadata": {
        "id": "ufmqCh-E8Cdw"
      }
    },
    {
      "cell_type": "code",
      "source": [
        "import numpy as np\n",
        "d = np.array([1,2,3,4,5,6,7,8])\n",
        "print(d[:3])\n",
        "print(d[3:6])\n",
        "print(d[6:8])"
      ],
      "metadata": {
        "colab": {
          "base_uri": "https://localhost:8080/"
        },
        "id": "qKdhHW0R83zr",
        "outputId": "ad086aeb-418a-4d4b-933e-5d2191cc96b1"
      },
      "execution_count": null,
      "outputs": [
        {
          "output_type": "stream",
          "name": "stdout",
          "text": [
            "[1 2 3]\n",
            "[4 5 6]\n",
            "[7 8]\n"
          ]
        }
      ]
    },
    {
      "cell_type": "markdown",
      "source": [
        "0-d to 3-d"
      ],
      "metadata": {
        "id": "lGL34X_h9msF"
      }
    },
    {
      "cell_type": "code",
      "source": [
        "import numpy as np\n",
        "d = np.array([1,2,3,4,5,6,7,8,9,10,11,12])\n",
        "print(d[:3])\n",
        "print(d[3:6])\n",
        "print(d[6:9])\n",
        "print(d[9:12])"
      ],
      "metadata": {
        "colab": {
          "base_uri": "https://localhost:8080/"
        },
        "id": "eXtHsgFd9pj8",
        "outputId": "48ee4925-fa5a-451b-e0c9-3f62d23ffe8b"
      },
      "execution_count": null,
      "outputs": [
        {
          "output_type": "stream",
          "name": "stdout",
          "text": [
            "[1 2 3]\n",
            "[4 5 6]\n",
            "[7 8 9]\n",
            "[10 11 12]\n"
          ]
        }
      ]
    },
    {
      "cell_type": "markdown",
      "source": [
        "1-d t0 2-d"
      ],
      "metadata": {
        "id": "DThKk00C99Bv"
      }
    },
    {
      "cell_type": "code",
      "source": [
        "import numpy as np\n",
        "d = np.array([[1,2,3,4,5,6],[7,8,9,10,11,12]])\n",
        "print(d[1, 0:4])\n",
        "print(d[1, 4:6])\n",
        "print(d[0, 3:6])"
      ],
      "metadata": {
        "colab": {
          "base_uri": "https://localhost:8080/"
        },
        "id": "sjXO0gkL-ARk",
        "outputId": "99632563-39f0-4da1-f015-29864097615d"
      },
      "execution_count": null,
      "outputs": [
        {
          "output_type": "stream",
          "name": "stdout",
          "text": [
            "[ 7  8  9 10]\n",
            "[11 12]\n",
            "[4 5 6]\n"
          ]
        }
      ]
    },
    {
      "cell_type": "markdown",
      "source": [
        "1-d to 3-d"
      ],
      "metadata": {
        "id": "e8wGbRMA-l4P"
      }
    },
    {
      "cell_type": "code",
      "source": [
        "import numpy as np\n",
        "d = np.array([[1,2,3,4,5,6],[7,8,9,10,11,12]])\n",
        "print(d[0, 0:4])\n",
        "print(d[0,  4:6])\n",
        "print(d[0,  3:6])\n",
        "print(d[1,2:6])"
      ],
      "metadata": {
        "colab": {
          "base_uri": "https://localhost:8080/"
        },
        "id": "a5Q8lyp4-onO",
        "outputId": "d39cd15a-07ff-4514-bb69-14886c0032e8"
      },
      "execution_count": null,
      "outputs": [
        {
          "output_type": "stream",
          "name": "stdout",
          "text": [
            "[1 2 3 4]\n",
            "[5 6]\n",
            "[4 5 6]\n",
            "[ 9 10 11 12]\n"
          ]
        }
      ]
    },
    {
      "cell_type": "markdown",
      "source": [
        "2-d t0 1-d"
      ],
      "metadata": {
        "id": "_gut0umC_bL3"
      }
    },
    {
      "cell_type": "code",
      "source": [
        "import numpy as np\n",
        "d = np.array([[1,2,3,4,5,6],[7,8,9,10,11,12],[13,14,15,16,17,18]])\n",
        "print(d[ 0:4,4:6])\n",
        "print(d.ndim)\n",
        "\n"
      ],
      "metadata": {
        "colab": {
          "base_uri": "https://localhost:8080/"
        },
        "id": "L5mUyUAK_iUc",
        "outputId": "e737195b-ad27-465e-a2de-7afd1e973bae"
      },
      "execution_count": 4,
      "outputs": [
        {
          "output_type": "stream",
          "name": "stdout",
          "text": [
            "[[ 5  6]\n",
            " [11 12]\n",
            " [17 18]]\n",
            "2\n"
          ]
        }
      ]
    },
    {
      "cell_type": "markdown",
      "source": [
        "2-d to 2-d"
      ],
      "metadata": {
        "id": "8X2enNPV_zld"
      }
    },
    {
      "cell_type": "code",
      "source": [
        "import numpy as np\n",
        "d = np.array([[1,2,3,4,5,6],[7,8,9,10,11,12],[13,14,15,16,17,18]])\n",
        "print(d[0:2, 2])\n",
        "print(d[2, 4:6])\n",
        "print(d[0:2, 1:4])\n",
        "print(d.ndim)\n"
      ],
      "metadata": {
        "colab": {
          "base_uri": "https://localhost:8080/"
        },
        "id": "zHxWwmXa_2-O",
        "outputId": "34be255b-1ab0-4f53-a441-6b83955d0bb8"
      },
      "execution_count": 3,
      "outputs": [
        {
          "output_type": "stream",
          "name": "stdout",
          "text": [
            "[3 9]\n",
            "[17 18]\n",
            "[[ 2  3  4]\n",
            " [ 8  9 10]]\n",
            "2\n"
          ]
        }
      ]
    },
    {
      "cell_type": "markdown",
      "source": [
        "2-d to 3-d"
      ],
      "metadata": {
        "id": "YyJ4LqVSAbtc"
      }
    },
    {
      "cell_type": "code",
      "source": [
        "import numpy as np\n",
        "d = np.array([[[[1,2,3,4,5,6],[7,8,9,10,11,12]],[[13,14,15,16,17,18],[19,20,21,22,23,24]]]])\n",
        "print(d[0,0:2])\n",
        "print(d[[1,5]])\n",
        "print(d[2,0:3,3:5,5:7])\n",
        "print(d.ndim)\n"
      ],
      "metadata": {
        "colab": {
          "base_uri": "https://localhost:8080/",
          "height": 297
        },
        "id": "tp0OptyfAd-i",
        "outputId": "606e32ae-0701-4cba-f4db-12b3397842a6"
      },
      "execution_count": 19,
      "outputs": [
        {
          "output_type": "stream",
          "name": "stdout",
          "text": [
            "[[[ 1  2  3  4  5  6]\n",
            "  [ 7  8  9 10 11 12]]\n",
            "\n",
            " [[13 14 15 16 17 18]\n",
            "  [19 20 21 22 23 24]]]\n"
          ]
        },
        {
          "output_type": "error",
          "ename": "IndexError",
          "evalue": "index 1 is out of bounds for axis 0 with size 1",
          "traceback": [
            "\u001b[0;31m---------------------------------------------------------------------------\u001b[0m",
            "\u001b[0;31mIndexError\u001b[0m                                Traceback (most recent call last)",
            "\u001b[0;32m<ipython-input-19-78d4be31bc8c>\u001b[0m in \u001b[0;36m<cell line: 4>\u001b[0;34m()\u001b[0m\n\u001b[1;32m      2\u001b[0m \u001b[0md\u001b[0m \u001b[0;34m=\u001b[0m \u001b[0mnp\u001b[0m\u001b[0;34m.\u001b[0m\u001b[0marray\u001b[0m\u001b[0;34m(\u001b[0m\u001b[0;34m[\u001b[0m\u001b[0;34m[\u001b[0m\u001b[0;34m[\u001b[0m\u001b[0;34m[\u001b[0m\u001b[0;36m1\u001b[0m\u001b[0;34m,\u001b[0m\u001b[0;36m2\u001b[0m\u001b[0;34m,\u001b[0m\u001b[0;36m3\u001b[0m\u001b[0;34m,\u001b[0m\u001b[0;36m4\u001b[0m\u001b[0;34m,\u001b[0m\u001b[0;36m5\u001b[0m\u001b[0;34m,\u001b[0m\u001b[0;36m6\u001b[0m\u001b[0;34m]\u001b[0m\u001b[0;34m,\u001b[0m\u001b[0;34m[\u001b[0m\u001b[0;36m7\u001b[0m\u001b[0;34m,\u001b[0m\u001b[0;36m8\u001b[0m\u001b[0;34m,\u001b[0m\u001b[0;36m9\u001b[0m\u001b[0;34m,\u001b[0m\u001b[0;36m10\u001b[0m\u001b[0;34m,\u001b[0m\u001b[0;36m11\u001b[0m\u001b[0;34m,\u001b[0m\u001b[0;36m12\u001b[0m\u001b[0;34m]\u001b[0m\u001b[0;34m]\u001b[0m\u001b[0;34m,\u001b[0m\u001b[0;34m[\u001b[0m\u001b[0;34m[\u001b[0m\u001b[0;36m13\u001b[0m\u001b[0;34m,\u001b[0m\u001b[0;36m14\u001b[0m\u001b[0;34m,\u001b[0m\u001b[0;36m15\u001b[0m\u001b[0;34m,\u001b[0m\u001b[0;36m16\u001b[0m\u001b[0;34m,\u001b[0m\u001b[0;36m17\u001b[0m\u001b[0;34m,\u001b[0m\u001b[0;36m18\u001b[0m\u001b[0;34m]\u001b[0m\u001b[0;34m,\u001b[0m\u001b[0;34m[\u001b[0m\u001b[0;36m19\u001b[0m\u001b[0;34m,\u001b[0m\u001b[0;36m20\u001b[0m\u001b[0;34m,\u001b[0m\u001b[0;36m21\u001b[0m\u001b[0;34m,\u001b[0m\u001b[0;36m22\u001b[0m\u001b[0;34m,\u001b[0m\u001b[0;36m23\u001b[0m\u001b[0;34m,\u001b[0m\u001b[0;36m24\u001b[0m\u001b[0;34m]\u001b[0m\u001b[0;34m]\u001b[0m\u001b[0;34m]\u001b[0m\u001b[0;34m]\u001b[0m\u001b[0;34m)\u001b[0m\u001b[0;34m\u001b[0m\u001b[0;34m\u001b[0m\u001b[0m\n\u001b[1;32m      3\u001b[0m \u001b[0mprint\u001b[0m\u001b[0;34m(\u001b[0m\u001b[0md\u001b[0m\u001b[0;34m[\u001b[0m\u001b[0;36m0\u001b[0m\u001b[0;34m,\u001b[0m\u001b[0;36m0\u001b[0m\u001b[0;34m:\u001b[0m\u001b[0;36m2\u001b[0m\u001b[0;34m]\u001b[0m\u001b[0;34m)\u001b[0m\u001b[0;34m\u001b[0m\u001b[0;34m\u001b[0m\u001b[0m\n\u001b[0;32m----> 4\u001b[0;31m \u001b[0mprint\u001b[0m\u001b[0;34m(\u001b[0m\u001b[0md\u001b[0m\u001b[0;34m[\u001b[0m\u001b[0;34m[\u001b[0m\u001b[0;36m1\u001b[0m\u001b[0;34m,\u001b[0m\u001b[0;36m5\u001b[0m\u001b[0;34m]\u001b[0m\u001b[0;34m]\u001b[0m\u001b[0;34m)\u001b[0m\u001b[0;34m\u001b[0m\u001b[0;34m\u001b[0m\u001b[0m\n\u001b[0m\u001b[1;32m      5\u001b[0m \u001b[0mprint\u001b[0m\u001b[0;34m(\u001b[0m\u001b[0md\u001b[0m\u001b[0;34m[\u001b[0m\u001b[0;36m2\u001b[0m\u001b[0;34m,\u001b[0m\u001b[0;36m0\u001b[0m\u001b[0;34m:\u001b[0m\u001b[0;36m3\u001b[0m\u001b[0;34m,\u001b[0m\u001b[0;36m3\u001b[0m\u001b[0;34m:\u001b[0m\u001b[0;36m5\u001b[0m\u001b[0;34m,\u001b[0m\u001b[0;36m5\u001b[0m\u001b[0;34m:\u001b[0m\u001b[0;36m7\u001b[0m\u001b[0;34m]\u001b[0m\u001b[0;34m)\u001b[0m\u001b[0;34m\u001b[0m\u001b[0;34m\u001b[0m\u001b[0m\n\u001b[1;32m      6\u001b[0m \u001b[0mprint\u001b[0m\u001b[0;34m(\u001b[0m\u001b[0md\u001b[0m\u001b[0;34m.\u001b[0m\u001b[0mndim\u001b[0m\u001b[0;34m)\u001b[0m\u001b[0;34m\u001b[0m\u001b[0;34m\u001b[0m\u001b[0m\n",
            "\u001b[0;31mIndexError\u001b[0m: index 1 is out of bounds for axis 0 with size 1"
          ]
        }
      ]
    },
    {
      "cell_type": "markdown",
      "source": [
        "3-d t0 1-d"
      ],
      "metadata": {
        "id": "254e6CLBEGw9"
      }
    },
    {
      "cell_type": "code",
      "source": [
        "import numpy as np\n",
        "d = np.array([[[[1,2,3,4,5],[6,7,8,9,10],[11,12,13,14,15],[16,17,18,19,20]]]])\n",
        "print(d[0,:4])\n",
        "print(d[2:5,3:4])\n",
        "print(d[4:6,5:7])\n",
        "print(d.ndim)"
      ],
      "metadata": {
        "colab": {
          "base_uri": "https://localhost:8080/"
        },
        "id": "--v2T56IEJRf",
        "outputId": "469c2037-254c-41b3-a59e-2cef000ae0d4"
      },
      "execution_count": 9,
      "outputs": [
        {
          "output_type": "stream",
          "name": "stdout",
          "text": [
            "[[[ 1  2  3  4  5]\n",
            "  [ 6  7  8  9 10]\n",
            "  [11 12 13 14 15]\n",
            "  [16 17 18 19 20]]]\n",
            "[]\n",
            "[]\n",
            "4\n"
          ]
        }
      ]
    },
    {
      "cell_type": "markdown",
      "source": [
        "3-d to 2-d"
      ],
      "metadata": {
        "id": "wIi8lu3nHAr9"
      }
    },
    {
      "cell_type": "code",
      "source": [
        "import numpy as np\n",
        "d = np.array([[[1,2,3,4,5,6],[7,8,9,10,11,12]],[[13,14,15,16,17,18],[19,20,21,22,23,24]]])\n",
        "print(d[0,:2])\n",
        "print(d[1,2:3,0:2])\n",
        "print(d[2:4,3:4,3:3])\n",
        "print(d.ndim)\n"
      ],
      "metadata": {
        "colab": {
          "base_uri": "https://localhost:8080/"
        },
        "id": "wr0ZkPrtHH9o",
        "outputId": "4d4ddb73-21bb-47a5-b50f-3a15065e38f6"
      },
      "execution_count": 12,
      "outputs": [
        {
          "output_type": "stream",
          "name": "stdout",
          "text": [
            "[[ 1  2  3  4  5  6]\n",
            " [ 7  8  9 10 11 12]]\n",
            "[]\n",
            "[]\n",
            "3\n"
          ]
        }
      ]
    },
    {
      "cell_type": "code",
      "source": [
        "d=np.array([[[2,4,3],[5,6,7],[8,9,10]], [[0,13,14],[2,3,16],[5,3,6]],\n",
        "                    [[66,7,7],[2,3,4],[9,7,8]]])\n"
      ],
      "metadata": {
        "id": "RoIVqJ9ETmz5"
      },
      "execution_count": 24,
      "outputs": []
    },
    {
      "cell_type": "code",
      "source": [
        "print(\"dime\",d)\n",
        "print(\"shape of array\",d.shape)\n",
        "print(\" shape\",d.ndim)\n",
        "print(\"Acessing of value\",d[2,2,1])\n",
        "print(\"length :\",len(d))"
      ],
      "metadata": {
        "colab": {
          "base_uri": "https://localhost:8080/"
        },
        "id": "FTPVLCSlTqo0",
        "outputId": "401003df-d3bb-4821-b3fe-834fb0053a4e"
      },
      "execution_count": 25,
      "outputs": [
        {
          "output_type": "stream",
          "name": "stdout",
          "text": [
            "dime [[[ 2  4  3]\n",
            "  [ 5  6  7]\n",
            "  [ 8  9 10]]\n",
            "\n",
            " [[ 0 13 14]\n",
            "  [ 2  3 16]\n",
            "  [ 5  3  6]]\n",
            "\n",
            " [[66  7  7]\n",
            "  [ 2  3  4]\n",
            "  [ 9  7  8]]]\n",
            "shape of array (3, 3, 3)\n",
            " shape 3\n",
            "Acessing of value 7\n",
            "length : 3\n"
          ]
        }
      ]
    },
    {
      "cell_type": "code",
      "source": [
        "print(\"min\",np.min(d))\n",
        "print(\"max\",np.max(d))\n",
        "print(\"sum\",np.sum(d))\n",
        "print(\"mean\",np.mean(d))\n",
        "print(\"avg\",np.average(d))"
      ],
      "metadata": {
        "colab": {
          "base_uri": "https://localhost:8080/"
        },
        "id": "sJFQC935Wt5x",
        "outputId": "4ced16c3-d694-4bac-9a4f-29fd53eae374"
      },
      "execution_count": 32,
      "outputs": [
        {
          "output_type": "stream",
          "name": "stdout",
          "text": [
            "min 1\n",
            "max 9\n",
            "sum 28\n",
            "mean 4.666666666666667\n",
            "avg 4.666666666666667\n"
          ]
        }
      ]
    }
  ]
}