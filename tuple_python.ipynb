{
  "nbformat": 4,
  "nbformat_minor": 0,
  "metadata": {
    "colab": {
      "provenance": [],
      "authorship_tag": "ABX9TyN9jr3ZkIl4D0K3LxNmY/M+",
      "include_colab_link": true
    },
    "kernelspec": {
      "name": "python3",
      "display_name": "Python 3"
    },
    "language_info": {
      "name": "python"
    }
  },
  "cells": [
    {
      "cell_type": "markdown",
      "metadata": {
        "id": "view-in-github",
        "colab_type": "text"
      },
      "source": [
        "<a href=\"https://colab.research.google.com/github/M-Dinesh-14/python/blob/main/tuple_python.ipynb\" target=\"_parent\"><img src=\"https://colab.research.google.com/assets/colab-badge.svg\" alt=\"Open In Colab\"/></a>"
      ]
    },
    {
      "cell_type": "code",
      "execution_count": null,
      "metadata": {
        "id": "rCnzpkNVlWRL"
      },
      "outputs": [],
      "source": []
    },
    {
      "cell_type": "markdown",
      "source": [
        "# Tuple:-\n",
        "  Tuples are used to store multiple items in a single variable.\n",
        "  * Tuple is one of 4 built-in data types in Python used to store collections of data\n",
        "  * they are defined as useing parentheses and saparated by commas.\n",
        "  * It is can't change once it's created.\n",
        "  # Features of Tuple:-\n",
        "  1. It is immutable.\n",
        "  2. it is ordered sequence.\n",
        "\n"
      ],
      "metadata": {
        "id": "Eg7r5mvglia5"
      }
    },
    {
      "cell_type": "markdown",
      "source": [
        "# Creating the Tuple\n"
      ],
      "metadata": {
        "id": "VeC9RYTop1Wm"
      }
    },
    {
      "cell_type": "code",
      "source": [
        "#empty tuple :- it is a empty varible\n",
        "#type():- it will tell about the function of varible\n",
        " # types of tuple\n",
        "\n",
        "empty_tuple = ()\n"
      ],
      "metadata": {
        "id": "7HLjJfg8qVNJ"
      },
      "execution_count": null,
      "outputs": []
    },
    {
      "cell_type": "code",
      "source": [
        "#tuple with element\n",
        "\n",
        "dinesh = (1,2,3,4,5)\n",
        "print(type(dinesh))\n",
        "#single tuple\n",
        "d = (1,)\n",
        "print(type(d))\n",
        "a = (1,4,5)\n",
        "print(type(a))\n",
        "#mixed tuple\n",
        "b = (1,\"ravi\",5)\n",
        "print(type(a))\n",
        "a = (\"dinesh\",)\n",
        "print(type(a))\n",
        "c = (\"nani\",)\n",
        "print(type(c))\n",
        "f = (\"chinnu\",\"mani\")\n",
        "print(type(f))\n",
        "#single tuple\n",
        "g = (67,)\n",
        "print(type(g))\n",
        "h = (1,)\n",
        "print(type(h))\n",
        "j = (9,8,6)\n",
        "print(type(j))"
      ],
      "metadata": {
        "colab": {
          "base_uri": "https://localhost:8080/"
        },
        "id": "ReEh1X6lqehr",
        "outputId": "e016baec-ac40-4a65-f1a5-8e4d2cef4717"
      },
      "execution_count": null,
      "outputs": [
        {
          "output_type": "stream",
          "name": "stdout",
          "text": [
            "<class 'tuple'>\n",
            "<class 'tuple'>\n",
            "<class 'tuple'>\n",
            "<class 'tuple'>\n",
            "<class 'tuple'>\n",
            "<class 'tuple'>\n",
            "<class 'tuple'>\n",
            "<class 'tuple'>\n",
            "<class 'tuple'>\n",
            "<class 'tuple'>\n"
          ]
        }
      ]
    },
    {
      "cell_type": "code",
      "source": [
        "#mixed data type\n",
        "b = (1,\"ravi\",5)\n",
        "print(b)\n",
        "a = (1,\"M\",)\n",
        "print(a)\n",
        "c = (1,5)\n",
        "print(c)\n",
        "d = (\"dinesh\",3.29,)\n",
        "print(d)\n",
        "f = (\"nani\",)\n",
        "print(f)\n"
      ],
      "metadata": {
        "colab": {
          "base_uri": "https://localhost:8080/"
        },
        "id": "Qt1VtZvmvTV6",
        "outputId": "fb7d3139-70bc-4130-daf5-b4d1f77c3889"
      },
      "execution_count": null,
      "outputs": [
        {
          "output_type": "stream",
          "name": "stdout",
          "text": [
            "(1, 'ravi', 5)\n",
            "(1, 'M')\n",
            "(1, 5)\n",
            "('dinesh', 3.29)\n",
            "('nani',)\n"
          ]
        }
      ]
    },
    {
      "cell_type": "markdown",
      "source": [
        "# Accessing of Tuple\n",
        "\n",
        "* You can access tuple items by referring to the index number, inside square brackets:"
      ],
      "metadata": {
        "id": "461XgpEpAfrY"
      }
    },
    {
      "cell_type": "code",
      "source": [
        " a = (\"apple\", \"banana\", \"cherry\")\n",
        "print(a[1])\n",
        "b = (\"car\",\"bike\",\"bus\")\n",
        "print(b[2])\n",
        "c = (1,2,3,2,5)\n",
        "print(c[3])\n",
        "d = (2,3,2,4,5,6)\n",
        "print(d[2])\n",
        "e = (\"max\",\"food\",\"dance\",\"dj\")\n",
        "print(e[3])\n",
        "f = (2,0,7,2,4,7,5,6)\n",
        "print(f[2])\n",
        "g = (\"a\",\"d\",\"B\",\"x\")\n",
        "print(g[2])\n",
        "h = (\"print\",\"tuple\",\"list\",\"data\")\n",
        "print(h[1])\n",
        "j = (246,763,987,123)\n",
        "print(j[3])\n",
        "k = (23,45,89,46,30)\n",
        "print(k[4])\n"
      ],
      "metadata": {
        "colab": {
          "base_uri": "https://localhost:8080/"
        },
        "id": "mP0Hm7SIBEA1",
        "outputId": "fb616d4f-332a-4a87-d6c9-9d3db7796344"
      },
      "execution_count": null,
      "outputs": [
        {
          "output_type": "stream",
          "name": "stdout",
          "text": [
            "banana\n",
            "bus\n",
            "2\n",
            "2\n",
            "dj\n",
            "7\n",
            "B\n",
            "tuple\n",
            "123\n",
            "30\n"
          ]
        }
      ]
    },
    {
      "cell_type": "markdown",
      "source": [
        "# Immutable\n"
      ],
      "metadata": {
        "id": "tn12iZxtEFpJ"
      }
    },
    {
      "cell_type": "code",
      "source": [
        "# immutable:-\n",
        "#Onces the tuple is created we cannot change its the element.\n",
        "\n",
        "a=(\"high\",\"low\",\"left\",\"right\")\n",
        "a[2] = \"top\"\n",
        "print(a)"
      ],
      "metadata": {
        "colab": {
          "base_uri": "https://localhost:8080/",
          "height": 193
        },
        "id": "rZ34DVMpESjJ",
        "outputId": "d6a3063c-db4a-4afc-b478-e14a3c652c7c"
      },
      "execution_count": null,
      "outputs": [
        {
          "output_type": "error",
          "ename": "TypeError",
          "evalue": "'tuple' object does not support item assignment",
          "traceback": [
            "\u001b[0;31m---------------------------------------------------------------------------\u001b[0m",
            "\u001b[0;31mTypeError\u001b[0m                                 Traceback (most recent call last)",
            "\u001b[0;32m<ipython-input-11-0a5565e0e1db>\u001b[0m in \u001b[0;36m<cell line: 5>\u001b[0;34m()\u001b[0m\n\u001b[1;32m      3\u001b[0m \u001b[0;34m\u001b[0m\u001b[0m\n\u001b[1;32m      4\u001b[0m \u001b[0ma\u001b[0m\u001b[0;34m=\u001b[0m\u001b[0;34m(\u001b[0m\u001b[0;34m\"high\"\u001b[0m\u001b[0;34m,\u001b[0m\u001b[0;34m\"low\"\u001b[0m\u001b[0;34m,\u001b[0m\u001b[0;34m\"left\"\u001b[0m\u001b[0;34m,\u001b[0m\u001b[0;34m\"right\"\u001b[0m\u001b[0;34m)\u001b[0m\u001b[0;34m\u001b[0m\u001b[0;34m\u001b[0m\u001b[0m\n\u001b[0;32m----> 5\u001b[0;31m \u001b[0ma\u001b[0m\u001b[0;34m[\u001b[0m\u001b[0;36m2\u001b[0m\u001b[0;34m]\u001b[0m \u001b[0;34m=\u001b[0m \u001b[0;34m\"top\"\u001b[0m\u001b[0;34m\u001b[0m\u001b[0;34m\u001b[0m\u001b[0m\n\u001b[0m\u001b[1;32m      6\u001b[0m \u001b[0mprint\u001b[0m\u001b[0;34m(\u001b[0m\u001b[0ma\u001b[0m\u001b[0;34m)\u001b[0m\u001b[0;34m\u001b[0m\u001b[0;34m\u001b[0m\u001b[0m\n",
            "\u001b[0;31mTypeError\u001b[0m: 'tuple' object does not support item assignment"
          ]
        }
      ]
    },
    {
      "cell_type": "markdown",
      "source": [
        "# Tuple Operations\n",
        "\n"
      ],
      "metadata": {
        "id": "USkmHDGqGgqb"
      }
    },
    {
      "cell_type": "markdown",
      "source": [
        "1. concetention\n",
        "* IT is used to combin the two tuples"
      ],
      "metadata": {
        "id": "P8E7BZtCHE5m"
      }
    },
    {
      "cell_type": "code",
      "source": [
        "\n",
        "a = (1,5,7,9,4)\n",
        "b = (8,9,4,6,8)\n",
        "c = a + b\n",
        "print(c)\n",
        "f = ('h','g','j','h')\n",
        "e = ('k','d','l','s')\n",
        "d = f + e\n",
        "print(d)\n",
        "g = (3,6,5,4,5)\n",
        "h = (4,5,9,0)\n",
        "j = g + h\n",
        "print(j)\n",
        "v = ('f','h','t','a')\n",
        "m = (3,5,7,2)\n",
        "n = v + m\n",
        "print(n)\n",
        "y = (\"mallu\",\"pati\",\"govind\")\n",
        "i = (65,78,94)\n",
        "w = y + i\n",
        "print(w)"
      ],
      "metadata": {
        "colab": {
          "base_uri": "https://localhost:8080/"
        },
        "id": "TZBNjccZHa5B",
        "outputId": "59aae9d5-a4d6-42de-a551-85c1653ac024"
      },
      "execution_count": null,
      "outputs": [
        {
          "output_type": "stream",
          "name": "stdout",
          "text": [
            "(1, 5, 7, 9, 4, 8, 9, 4, 6, 8)\n",
            "('h', 'g', 'j', 'h', 'k', 'd', 'l', 's')\n",
            "(3, 6, 5, 4, 5, 4, 5, 9, 0)\n",
            "('f', 'h', 't', 'a', 3, 5, 7, 2)\n",
            "('mallu', 'pati', 'govind', 65, 78, 94)\n"
          ]
        }
      ]
    },
    {
      "cell_type": "markdown",
      "source": [
        "# 2.Repeatition\n",
        "\n",
        "it is used to repeat the elements."
      ],
      "metadata": {
        "id": "VoLqO0IJSY_r"
      }
    },
    {
      "cell_type": "code",
      "source": [
        "a = (1,2,3)\n",
        "b = (a*3)\n",
        "print(b)\n",
        "d = (3,2,6)\n",
        "e = (d*4)\n",
        "print(e)\n",
        "f = (\"dinesh\",'d',\"fish\")\n",
        "f = (f*2)\n",
        "print(f)\n",
        "g = (\"ravi\",22,'p')\n",
        "g=(g*3)\n",
        "print(g)\n",
        "w=(23,)\n",
        "w=(w*6)\n",
        "print(w)"
      ],
      "metadata": {
        "colab": {
          "base_uri": "https://localhost:8080/"
        },
        "id": "szVH8Xj1UxiF",
        "outputId": "bef2c437-2ad5-42fa-c8e4-40954915c034"
      },
      "execution_count": null,
      "outputs": [
        {
          "output_type": "stream",
          "name": "stdout",
          "text": [
            "(1, 2, 3, 1, 2, 3, 1, 2, 3)\n",
            "(3, 2, 6, 3, 2, 6, 3, 2, 6, 3, 2, 6)\n",
            "('dinesh', 'd', 'fish', 'dinesh', 'd', 'fish')\n",
            "('ravi', 22, 'p', 'ravi', 22, 'p', 'ravi', 22, 'p')\n",
            "(23, 23, 23, 23, 23, 23)\n"
          ]
        }
      ]
    },
    {
      "cell_type": "markdown",
      "source": [
        "# Tuple Methods\n",
        "* Python has two built-in methods that you can use on tuples.\n",
        "\n"
      ],
      "metadata": {
        "id": "dg712qYPW-jQ"
      }
    },
    {
      "cell_type": "markdown",
      "source": [
        "# 1. Count()\n",
        "Returns the number of times a specified value occurs in a tuple"
      ],
      "metadata": {
        "id": "105-_sNxXOnD"
      }
    },
    {
      "cell_type": "code",
      "source": [
        "a=(1,2,3,4,3,5,3,4,2,3,1,5)\n",
        "b=a.count(3)\n",
        "print(b)\n",
        "g=('d','f','d','s','a','d')\n",
        "g=g.count('d')\n",
        "print(g)\n",
        "h=(1,'c',\"dinesh\",1,3,4,\"dinesh\",'s')\n",
        "h=h.count(\"dinesh\")\n",
        "print(h)\n",
        "s = (5,6,4,5,2,5,1,2,7,5,8,9,2,3,4,)\n",
        "s = s.count(5)\n",
        "print(s)\n",
        "t=(\"josh\",\"ravi\",\"josh\",\"dinesh\",\"nani\",\"josh\")\n",
        "t=t.count(\"josh\")\n",
        "print(t)\n",
        "m=(\"name\",\"age\",\"pleac\",\"age\",\"preson\",\"age\",\"name\",\"pleac\",\"age\")\n",
        "m=m.count(\"age\")\n",
        "print(m)\n",
        "n=(289,378,987,289,908,172,289,371,890)\n",
        "n=n.count(289)\n",
        "print(n)\n",
        "z=(68,89,28,98,28,68,67,87,68,90,11)\n",
        "z=z.count(89)\n",
        "print(z)\n",
        "w=(\"ravi\",\"is\",\"a\",\"ideot\",\"ideot\",\"ideot\",\"ideot\")\n",
        "w=w.count(\"ideot\")\n",
        "print(w)\n",
        "p=(\"nani\", \"want\",\"to\",\"game\",\"play\",\"game\",\"nani\",\"game\",)\n",
        "p=p.count(\"game\")\n",
        "print(p)"
      ],
      "metadata": {
        "colab": {
          "base_uri": "https://localhost:8080/"
        },
        "id": "wlmpGncvZbJ4",
        "outputId": "fd2da37c-7df3-4b5b-ab0c-43a7ce949464"
      },
      "execution_count": null,
      "outputs": [
        {
          "output_type": "stream",
          "name": "stdout",
          "text": [
            "4\n",
            "3\n",
            "2\n",
            "4\n",
            "3\n",
            "4\n",
            "3\n",
            "1\n",
            "4\n",
            "3\n"
          ]
        }
      ]
    },
    {
      "cell_type": "markdown",
      "source": [
        "# Index\n",
        "Searches the tuple for a specified value and returns the position of where it was found"
      ],
      "metadata": {
        "id": "Ubz-I4mz_PV_"
      }
    },
    {
      "cell_type": "code",
      "source": [
        "a=(1,2,3,4,3,5,3,4,2,3,1,5)\n",
        "a_2=a.index(3)\n",
        "print(a_2)\n",
        "g=('d','f','d','s','a','d')\n",
        "g=g.index('d')\n",
        "print(g)\n",
        "h=(1,'c',\"dinesh\",1,3,4,\"dinesh\",'s')\n",
        "h=h.index(\"dinesh\")\n",
        "print(h)\n",
        "s = (5,6,4,5,2,5,1,2,7,5,8,9,2,3,4,)\n",
        "s = s.index(5)\n",
        "print(s)\n",
        "t=(\"josh\",\"ravi\",\"josh\",\"dinesh\",\"nani\",\"josh\")\n",
        "t=t.index(\"josh\")\n",
        "print(t)\n",
        "m=(\"name\",\"age\",\"pleac\",\"age\",\"preson\",\"age\",\"name\",\"pleac\",\"age\")\n",
        "m=m.index(\"age\")\n",
        "print(m)\n",
        "n=(289,378,987,289,908,172,289,371,890)\n",
        "n=n.index(289)\n",
        "print(n)\n",
        "z=(\"dinesh\",\"mani\",\"nani\",\"veni\")\n",
        "z=z.index(\"dinesh\")\n",
        "p=('d','r','j','k',\"l\")\n",
        "p=p.index('r')\n",
        "print(p)\n",
        "l=(90,23,45,6,7,12,34)\n",
        "l=l.index(12)\n",
        "print(l)\n",
        "\n"
      ],
      "metadata": {
        "colab": {
          "base_uri": "https://localhost:8080/"
        },
        "id": "Ms2IHqaW_fjt",
        "outputId": "1d9aeae4-e2f4-4ac3-9471-0260133295f5"
      },
      "execution_count": null,
      "outputs": [
        {
          "output_type": "stream",
          "name": "stdout",
          "text": [
            "2\n",
            "0\n",
            "2\n",
            "0\n",
            "0\n",
            "1\n",
            "0\n",
            "1\n",
            "5\n"
          ]
        }
      ]
    }
  ]
}