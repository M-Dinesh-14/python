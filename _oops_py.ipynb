{
  "nbformat": 4,
  "nbformat_minor": 0,
  "metadata": {
    "colab": {
      "provenance": [],
      "authorship_tag": "ABX9TyMSPpZRkk0VLNbxNpfQxWDD",
      "include_colab_link": true
    },
    "kernelspec": {
      "name": "python3",
      "display_name": "Python 3"
    },
    "language_info": {
      "name": "python"
    }
  },
  "cells": [
    {
      "cell_type": "markdown",
      "metadata": {
        "id": "view-in-github",
        "colab_type": "text"
      },
      "source": [
        "<a href=\"https://colab.research.google.com/github/M-Dinesh-14/python/blob/main/_oops_py.ipynb\" target=\"_parent\"><img src=\"https://colab.research.google.com/assets/colab-badge.svg\" alt=\"Open In Colab\"/></a>"
      ]
    },
    {
      "cell_type": "code",
      "execution_count": null,
      "metadata": {
        "colab": {
          "base_uri": "https://localhost:8080/"
        },
        "id": "B5oo3o0zPdAF",
        "outputId": "88b7d05b-d429-4c39-b4a6-51bb909ae074"
      },
      "outputs": [
        {
          "output_type": "stream",
          "name": "stdout",
          "text": [
            "enter the details s\n",
            "my name is tommy amd my age is 12 and my grade is 10\n"
          ]
        }
      ],
      "source": [
        " user = input(\"enter the details \")\n",
        "class student:\n",
        "    def __init__(self,name,age,grade):\n",
        "        self.name=name\n",
        "        self.age=age\n",
        "        self.grade=grade\n",
        "if 's' in user:\n",
        "    s = student('tommy',12,10)\n",
        "    print(f'my name is {s.name} amd my age is {s.age} and my grade is {s.grade}')"
      ]
    },
    {
      "cell_type": "markdown",
      "source": [
        "1) bank"
      ],
      "metadata": {
        "id": "gx2yZ9fOVNSu"
      }
    },
    {
      "cell_type": "code",
      "source": [
        "class bank:\n",
        "    def __init__(self,name,balance):\n",
        "        self.name=name\n",
        "        self.balance=balance\n",
        "\n",
        "    def __str__(self):\n",
        "       return f'my name is {self.name} and my balance is {self.balance}'\n",
        "\n",
        "preson = bank('tommy',1000)\n",
        "print(preson)"
      ],
      "metadata": {
        "colab": {
          "base_uri": "https://localhost:8080/"
        },
        "id": "t5xmrXixVR3J",
        "outputId": "fe743db6-e811-4772-d103-856aee31ba4e"
      },
      "execution_count": null,
      "outputs": [
        {
          "output_type": "stream",
          "name": "stdout",
          "text": [
            "my name is tommy and my balance is 1000\n"
          ]
        }
      ]
    },
    {
      "cell_type": "markdown",
      "source": [
        "2) hospital"
      ],
      "metadata": {
        "id": "GeK-mH2hZXU9"
      }
    },
    {
      "cell_type": "code",
      "source": [
        "\n",
        "class hospital:\n",
        "  def __init__(self,doctor,apointment,problem):\n",
        "    self.doctor=doctor\n",
        "    self.apointment=apointment\n",
        "    self.problem=problem\n",
        "  def __str__(self):\n",
        "    return f'my doctor is {self.doctor} and my apointment is at {self.apointment} and my problem is {self.problem}'\n",
        "data = hospital(\"DR.Dinesh\",\"10 am\",\"cancer\")\n",
        "print(data)\n"
      ],
      "metadata": {
        "colab": {
          "base_uri": "https://localhost:8080/"
        },
        "id": "XLNR7OTbcDZq",
        "outputId": "dd4cc8b0-25db-4359-bbdd-384806e9c489"
      },
      "execution_count": null,
      "outputs": [
        {
          "output_type": "stream",
          "name": "stdout",
          "text": [
            "my doctor is DR.Dinesh and my apointment is at 10 am and my problem is cancer\n"
          ]
        }
      ]
    },
    {
      "cell_type": "markdown",
      "source": [
        "3)orphan"
      ],
      "metadata": {
        "id": "k9o8AyEIelTE"
      }
    },
    {
      "cell_type": "code",
      "source": [
        "class orphan:\n",
        "  def __init__(self,name,number,donetion):\n",
        "    self.name=name\n",
        "    self.number=number\n",
        "    self.donetion=donetion\n",
        "  def __str__(self):\n",
        "    return f'my name is {self.name} and my number is {self.number} and my donetion is {self.donetion}'\n",
        "preson = orphan(\"ravi\",6309650636,500000)\n",
        "print(preson)"
      ],
      "metadata": {
        "colab": {
          "base_uri": "https://localhost:8080/"
        },
        "id": "cOtDBuQWe6Fv",
        "outputId": "4750f2a0-c6bb-4d40-b4d8-9a74783e4d0b"
      },
      "execution_count": null,
      "outputs": [
        {
          "output_type": "stream",
          "name": "stdout",
          "text": [
            "my name is ravi and my number is 6309650636 and my donetion is 500000\n"
          ]
        }
      ]
    },
    {
      "cell_type": "code",
      "source": [],
      "metadata": {
        "id": "n1P9bxxkgIEJ"
      },
      "execution_count": null,
      "outputs": []
    },
    {
      "cell_type": "markdown",
      "source": [
        "4) travels"
      ],
      "metadata": {
        "id": "HznmDUiWgSSE"
      }
    },
    {
      "cell_type": "code",
      "source": [
        "class travels:\n",
        "  def __init__(self,name,num,seats ):\n",
        "    self.name=name\n",
        "    self.num=num\n",
        "    self.seats =seats\n",
        "  def __str__(self):\n",
        "    return f'my bus name is  {self.name} and bus number is  {self.num} and my seats no {self.seats }'\n",
        "data = travels(\"BRS\",\"AP 8 c 9627\",\"L6\")\n",
        "print(data)"
      ],
      "metadata": {
        "colab": {
          "base_uri": "https://localhost:8080/"
        },
        "id": "-KoOX9TTgaH3",
        "outputId": "67d627f0-1dc3-4e2c-a37d-e3dc58353627"
      },
      "execution_count": null,
      "outputs": [
        {
          "output_type": "stream",
          "name": "stdout",
          "text": [
            "my bus name is  BRS and bus number is  AP 8 c 9627 and my seats no L6\n"
          ]
        }
      ]
    },
    {
      "cell_type": "markdown",
      "source": [
        "5) TV\n"
      ],
      "metadata": {
        "id": "FM3i3IH5iee4"
      }
    },
    {
      "cell_type": "code",
      "source": [
        "class TV:\n",
        "  def __init__(self,name,num):\n",
        "    self.name=name\n",
        "    self.num=num\n",
        "  def __str__(self):\n",
        "      return f'my TV name is  {self.name} and TV number is  {self.num}'\n",
        "data = TV(\"SAMSUNG\",214455)\n",
        "print(data)\n"
      ],
      "metadata": {
        "id": "5v9_o7Mhkxgx",
        "colab": {
          "base_uri": "https://localhost:8080/"
        },
        "outputId": "919598c0-9345-4e8f-d4cd-6df79e5f9f48"
      },
      "execution_count": null,
      "outputs": [
        {
          "output_type": "stream",
          "name": "stdout",
          "text": [
            "my TV name is  SAMSUNG and TV number is  214455\n"
          ]
        }
      ]
    },
    {
      "cell_type": "markdown",
      "source": [
        "6) Movie"
      ],
      "metadata": {
        "id": "U4JCHbGwDW47"
      }
    },
    {
      "cell_type": "code",
      "source": [
        "class Movie:\n",
        "  def __init__(self,name,cost,seats):\n",
        "    self.name=name\n",
        "    self.cost=cost\n",
        "    self.seats=seats\n",
        "  def __str__(self):\n",
        "     return f'movie name{self.name} and cost of movie{self.cost} and my seat no {self.seats}'\n",
        "yuva = Movie('goat',200,5)\n",
        "print(yuva)"
      ],
      "metadata": {
        "colab": {
          "base_uri": "https://localhost:8080/"
        },
        "id": "Y9qULyOTDpur",
        "outputId": "c5d67ac6-d8c5-4d4e-c075-7d697ae13776"
      },
      "execution_count": null,
      "outputs": [
        {
          "output_type": "stream",
          "name": "stdout",
          "text": [
            "movie namegoat and cost of movie200 and my seat no 5\n"
          ]
        }
      ]
    },
    {
      "cell_type": "markdown",
      "source": [
        "7) car"
      ],
      "metadata": {
        "id": "rh0y6C9aE0gs"
      }
    },
    {
      "cell_type": "code",
      "source": [
        "class car:\n",
        "  def __init__(self,name,fuel,distances):\n",
        "    self.name=name\n",
        "    self.fuel = fuel\n",
        "    self.distances=distances\n",
        "  def __str__(self):\n",
        "    return f'my car name is {self.name} and it fills fuel tank range is {self.fuel} it covers the  distance {self.distances}'\n",
        "pandu = car('honda',500,'100 km')\n",
        "print(pandu)\n"
      ],
      "metadata": {
        "colab": {
          "base_uri": "https://localhost:8080/"
        },
        "id": "CLKC5i0DF5qj",
        "outputId": "366aa4b5-2faf-4bd8-88e4-468b0bf8191f"
      },
      "execution_count": null,
      "outputs": [
        {
          "output_type": "stream",
          "name": "stdout",
          "text": [
            "my car name is honda and it fills fuel tank range is 500 it covers the  distance 100 km\n"
          ]
        }
      ]
    },
    {
      "cell_type": "markdown",
      "source": [
        "8)coching"
      ],
      "metadata": {
        "id": "5oHoO3jQHaME"
      }
    },
    {
      "cell_type": "code",
      "source": [
        "class coching:\n",
        "  def __init__(self,name,time):\n",
        "    self.name=name\n",
        "    self.time=time\n",
        "  def __str__(self):\n",
        "    return f'my coaching name is {self.name} and its timeings is {self.time}'\n",
        "padmini = coching('teks academy','5:30 pam')\n",
        "print(padmini)"
      ],
      "metadata": {
        "colab": {
          "base_uri": "https://localhost:8080/"
        },
        "id": "Iv1yQtFjHw91",
        "outputId": "ac7db24a-9972-40e4-c763-771d660019c6"
      },
      "execution_count": 1,
      "outputs": [
        {
          "output_type": "stream",
          "name": "stdout",
          "text": [
            "my coaching name is teks academy and its timeings is 5:30 pam\n"
          ]
        }
      ]
    },
    {
      "cell_type": "markdown",
      "source": [
        "9) swich"
      ],
      "metadata": {
        "id": "bYEipAZrJ2_0"
      }
    },
    {
      "cell_type": "code",
      "source": [
        "class door:\n",
        "  def __init__(self,name,code,cost):\n",
        "    self.name=name\n",
        "    self.code=code\n",
        "    self.cost=cost\n",
        "  def __str__(self):\n",
        "    return f'my door name is {self.name} and my door code is {self.code} and its cost is {self.cost}'\n",
        "janu = door('wood',1234,2000)\n",
        "print(janu)"
      ],
      "metadata": {
        "colab": {
          "base_uri": "https://localhost:8080/"
        },
        "id": "PCDnabOFLl_0",
        "outputId": "40040439-b431-4bbb-8a6f-954277d2dde6"
      },
      "execution_count": null,
      "outputs": [
        {
          "output_type": "stream",
          "name": "stdout",
          "text": [
            "my door name is wood and my door code is 1234 and its cost is 2000\n"
          ]
        }
      ]
    },
    {
      "cell_type": "markdown",
      "source": [
        "10) paint"
      ],
      "metadata": {
        "id": "ARTIgYjYM2hV"
      }
    },
    {
      "cell_type": "code",
      "source": [
        "class paint:\n",
        "  def __init__(self,name,code,cost):\n",
        "    self.name=name\n",
        "    self.cost=cost\n",
        "    self.code=code\n",
        "  def __str__(self):\n",
        "    return f' the paint name is {self.name} and its code is {self.code} and its cost {self.cost}'\n",
        "jack = paint('blue',8906,1500)\n",
        "print(jack)"
      ],
      "metadata": {
        "colab": {
          "base_uri": "https://localhost:8080/"
        },
        "id": "2P0yZVMhM6A9",
        "outputId": "3d321d14-800a-40c0-9ddc-b54c4d74a1a7"
      },
      "execution_count": null,
      "outputs": [
        {
          "output_type": "stream",
          "name": "stdout",
          "text": [
            " the paint name is blue and its code is 8906 and its cost 1500\n"
          ]
        }
      ]
    }
  ]
}